{
 "cells": [
  {
   "cell_type": "code",
   "execution_count": 4,
   "metadata": {},
   "outputs": [],
   "source": [
    "class Solution(object):\n",
    "    def guessNumber(self,n):\n",
    "        \"\"\"\n",
    "        :type n: int\n",
    "        :rtype: int\n",
    "        \"\"\"\n",
    "        if n == 1:\n",
    "            return 1\n",
    "        \n",
    "        left = 0\n",
    "        right = n + 1\n",
    "        mid = int(right/2)\n",
    "        \n",
    "        while left < right:\n",
    "            ret = mid \n",
    "            \n",
    "            if ret == 0:\n",
    "                return mid\n",
    "            elif ret > 0:\n",
    "                left = mid\n",
    "                mid = int((left + right + 1)/2)\n",
    "            else:\n",
    "                right = mid\n",
    "                mid = int((left + right )/2)\n",
    "        return left"
   ]
  },
  {
   "cell_type": "markdown",
   "metadata": {},
   "source": [
    "Runtime: 8 ms, faster than 99.06% of Python online submissions for Guess Number Higher or Lower.\n",
    "Memory Usage: 11.8 MB, less than 31.35% of Python online submissions for Guess Number Higher or Lower.\n"
   ]
  },
  {
   "cell_type": "code",
   "execution_count": null,
   "metadata": {
    "collapsed": true
   },
   "outputs": [],
   "source": []
  }
 ],
 "metadata": {
  "kernelspec": {
   "display_name": "Python 3",
   "language": "python",
   "name": "python3"
  },
  "language_info": {
   "codemirror_mode": {
    "name": "ipython",
    "version": 3
   },
   "file_extension": ".py",
   "mimetype": "text/x-python",
   "name": "python",
   "nbconvert_exporter": "python",
   "pygments_lexer": "ipython3",
   "version": "3.6.1"
  }
 },
 "nbformat": 4,
 "nbformat_minor": 2
}

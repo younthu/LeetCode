{
 "cells": [
  {
   "cell_type": "code",
   "execution_count": 9,
   "id": "97bd9e4f",
   "metadata": {},
   "outputs": [],
   "source": [
    "from typing import List, Type\n",
    "class Solution:\n",
    "    def intersect(self, nums1: List[int], nums2: List[int]) -> List[int]:\n",
    "        m1 = {}\n",
    "        m2 = {}\n",
    "        for n in nums1:\n",
    "            if n in m1:\n",
    "                m1[n] += 1\n",
    "            else:\n",
    "                m1[n] = 1\n",
    "        for m in nums2:\n",
    "            if m in m2:\n",
    "                m2[m] += 1\n",
    "            else:\n",
    "                m2[m] = 1\n",
    "        m3 = {}\n",
    "        for k,v in m1.items():\n",
    "            if k not in m2:\n",
    "                pass\n",
    "            else:\n",
    "                m3[k] = m1[k] if m1[k] <= m2[k] else m2[k]\n",
    "        \n",
    "        # to list\n",
    "        result = []\n",
    "        for k,v in m3.items():\n",
    "            while v > 0:\n",
    "                result.append(k)\n",
    "                v -= 1\n",
    "        return result"
   ]
  },
  {
   "cell_type": "code",
   "execution_count": 10,
   "id": "f898ad73",
   "metadata": {},
   "outputs": [],
   "source": [
    "m1 = {}\n",
    "m1[1] = 2"
   ]
  },
  {
   "cell_type": "code",
   "execution_count": 11,
   "id": "92b19256",
   "metadata": {},
   "outputs": [
    {
     "data": {
      "text/plain": [
       "{1: 2}"
      ]
     },
     "execution_count": 11,
     "metadata": {},
     "output_type": "execute_result"
    }
   ],
   "source": [
    "m1"
   ]
  },
  {
   "cell_type": "code",
   "execution_count": 16,
   "id": "f2580d24",
   "metadata": {},
   "outputs": [
    {
     "name": "stdout",
     "output_type": "stream",
     "text": [
      "1 2\n",
      "1 2\n"
     ]
    }
   ],
   "source": [
    "for k,v in m1.items():\n",
    "    print(k,v)\n",
    "\n",
    "# Equals\n",
    "for k in m1:\n",
    "    print(k, m1[k])"
   ]
  },
  {
   "cell_type": "code",
   "execution_count": null,
   "id": "0476178e",
   "metadata": {},
   "outputs": [],
   "source": []
  },
  {
   "cell_type": "code",
   "execution_count": null,
   "id": "4418e4dd",
   "metadata": {},
   "outputs": [],
   "source": []
  }
 ],
 "metadata": {
  "kernelspec": {
   "display_name": "Python 3 (ipykernel)",
   "language": "python",
   "name": "python3"
  },
  "language_info": {
   "codemirror_mode": {
    "name": "ipython",
    "version": 3
   },
   "file_extension": ".py",
   "mimetype": "text/x-python",
   "name": "python",
   "nbconvert_exporter": "python",
   "pygments_lexer": "ipython3",
   "version": "3.11.5"
  }
 },
 "nbformat": 4,
 "nbformat_minor": 5
}

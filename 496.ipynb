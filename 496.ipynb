{
 "cells": [
  {
   "cell_type": "code",
   "execution_count": 10,
   "id": "c5582960",
   "metadata": {},
   "outputs": [],
   "source": [
    "from typing import List, Type\n",
    "class Solution:\n",
    "    def nextGreaterElement(self, nums1: List[int], nums2: List[int]) -> List[int]:\n",
    "        m = {}\n",
    "        l2 = len(nums2)\n",
    "        for i,v in enumerate(nums2):\n",
    "            m[v] = i\n",
    "        result = []\n",
    "        print(m)\n",
    "        for v in nums1:\n",
    "            i = m[v] + 1\n",
    "            print(i)\n",
    "            nextElementIndex = -1\n",
    "            while i < l2:\n",
    "                if nums2[i] > v:\n",
    "                    print(\"find\")\n",
    "                    print(i)\n",
    "                    nextElementIndex = i;\n",
    "                    break\n",
    "                i+=1\n",
    "            result.append(nextElementIndex)\n",
    "        return result"
   ]
  },
  {
   "cell_type": "code",
   "execution_count": 11,
   "id": "3425a988",
   "metadata": {},
   "outputs": [
    {
     "name": "stdout",
     "output_type": "stream",
     "text": [
      "{1: 0, 3: 1, 4: 2, 2: 3}\n",
      "3\n",
      "1\n",
      "find\n",
      "1\n",
      "4\n",
      "[-1, 1, -1]\n"
     ]
    }
   ],
   "source": [
    "nums1 = [4,1,2];\n",
    "nums2 = [1,3,4,2];\n",
    "s = Solution()\n",
    "print(s.nextGreaterElement(nums1, nums2))"
   ]
  },
  {
   "cell_type": "code",
   "execution_count": null,
   "id": "187ec801",
   "metadata": {},
   "outputs": [],
   "source": []
  }
 ],
 "metadata": {
  "kernelspec": {
   "display_name": "Python 3 (ipykernel)",
   "language": "python",
   "name": "python3"
  },
  "language_info": {
   "codemirror_mode": {
    "name": "ipython",
    "version": 3
   },
   "file_extension": ".py",
   "mimetype": "text/x-python",
   "name": "python",
   "nbconvert_exporter": "python",
   "pygments_lexer": "ipython3",
   "version": "3.11.5"
  }
 },
 "nbformat": 4,
 "nbformat_minor": 5
}

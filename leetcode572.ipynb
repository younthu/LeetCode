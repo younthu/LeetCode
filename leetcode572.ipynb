{
 "cells": [
  {
   "cell_type": "code",
   "execution_count": 18,
   "metadata": {
    "collapsed": true
   },
   "outputs": [],
   "source": [
    "# 572. Subtree of Another Tree\n",
    "class Solution:\n",
    "    def isSubtree(self, s, t):\n",
    "        \"\"\"\n",
    "        :type s: TreeNode\n",
    "        :type t: TreeNode\n",
    "        :rtype: bool\n",
    "        \"\"\"\n",
    "        \n",
    "        if (s == None or t == None) and s != t:\n",
    "            return False;\n",
    "        \n",
    "        subtree = True\n",
    "        if s.val == t.val:\n",
    "            ret = self.isEqualTree(s, t)\n",
    "            if ret:\n",
    "                return True\n",
    "        isLeftTree = self.isSubtree(s.left, t)\n",
    "        if isLeftTree:\n",
    "            return True\n",
    "        isRightTree = self.isSubtree(s.right, t)\n",
    "        if isRightTree:\n",
    "            return True\n",
    "        return False\n",
    "    \n",
    "    def isEqualTree(self, left, right):\n",
    "        #print(\"isEqualTree:\",left, right)\n",
    "        if left == None or right == None:\n",
    "            #print(\"returning true\")\n",
    "            return left == right\n",
    "        if left.val != right.val:\n",
    "            #print(\"returning false\")\n",
    "            return False\n",
    "        \n",
    "        return self.isEqualTree(left.left, right.left) and self.isEqualTree(left.right, right.right)\n",
    "        "
   ]
  },
  {
   "cell_type": "code",
   "execution_count": 19,
   "metadata": {},
   "outputs": [],
   "source": [
    "s = Solution()"
   ]
  },
  {
   "cell_type": "code",
   "execution_count": 20,
   "metadata": {},
   "outputs": [
    {
     "name": "stdout",
     "output_type": "stream",
     "text": [
      "CPU times: user 21 µs, sys: 1e+03 ns, total: 22 µs\n",
      "Wall time: 26 µs\n"
     ]
    },
    {
     "data": {
      "text/plain": [
       "True"
      ]
     },
     "execution_count": 20,
     "metadata": {},
     "output_type": "execute_result"
    }
   ],
   "source": [
    "%run Utils.ipynb\n",
    "%time s.isSubtree(TreeNode.build_from_array_wfs([3,4,5,1,2], 5),TreeNode.build_from_array_wfs([4,1,2], 3))"
   ]
  },
  {
   "cell_type": "code",
   "execution_count": 21,
   "metadata": {},
   "outputs": [
    {
     "name": "stdout",
     "output_type": "stream",
     "text": [
      "CPU times: user 20 µs, sys: 1e+03 ns, total: 21 µs\n",
      "Wall time: 25.3 µs\n"
     ]
    },
    {
     "data": {
      "text/plain": [
       "True"
      ]
     },
     "execution_count": 21,
     "metadata": {},
     "output_type": "execute_result"
    }
   ],
   "source": [
    "%time s.isSubtree(TreeNode.build_from_array_wfs([1,1], 2),TreeNode.build_from_array_wfs([1], 1))"
   ]
  },
  {
   "cell_type": "code",
   "execution_count": 22,
   "metadata": {
    "collapsed": true
   },
   "outputs": [],
   "source": [
    "?sum()"
   ]
  },
  {
   "cell_type": "code",
   "execution_count": 25,
   "metadata": {},
   "outputs": [],
   "source": [
    "?TreeNode.build_from_array_wfs()"
   ]
  },
  {
   "cell_type": "code",
   "execution_count": null,
   "metadata": {
    "collapsed": true
   },
   "outputs": [],
   "source": []
  }
 ],
 "metadata": {
  "kernelspec": {
   "display_name": "Python 3",
   "language": "python",
   "name": "python3"
  },
  "language_info": {
   "codemirror_mode": {
    "name": "ipython",
    "version": 3
   },
   "file_extension": ".py",
   "mimetype": "text/x-python",
   "name": "python",
   "nbconvert_exporter": "python",
   "pygments_lexer": "ipython3",
   "version": "3.6.1"
  }
 },
 "nbformat": 4,
 "nbformat_minor": 2
}

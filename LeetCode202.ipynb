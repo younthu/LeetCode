{
 "cells": [
  {
   "cell_type": "code",
   "execution_count": 16,
   "metadata": {
    "collapsed": true
   },
   "outputs": [],
   "source": [
    "from typing import List\n",
    "import pysnooper\n",
    "class Solution:\n",
    "    @pysnooper.snoop()\n",
    "    def next_num(self, n:int)->bool:\n",
    "        a = map(lambda x: int(x), str(n))\n",
    "        b = map(lambda y: y*y, a)\n",
    "        return sum(b)\n",
    "    \n",
    "    def isHappy(self, n: int) -> bool:\n",
    "        if n == 1:\n",
    "            return True\n",
    "        \n",
    "        a = [n]\n",
    "        cur = n\n",
    "        \n",
    "        while True:\n",
    "            nex = self.next_num(cur)\n",
    "            if nex in a:\n",
    "                return False\n",
    "            if nex == 1:\n",
    "                return True\n",
    "            a.append(nex)\n",
    "            cur = nex"
   ]
  },
  {
   "cell_type": "code",
   "execution_count": 17,
   "metadata": {},
   "outputs": [
    {
     "name": "stderr",
     "output_type": "stream",
     "text": [
      "Starting var:.. self = <__main__.Solution object at 0x1058ab470>\n",
      "Starting var:.. n = 7\n",
      "16:41:07.065018 call         5     def next_num(self, n:int)->bool:\n",
      "16:41:07.065161 line         6         a = map(lambda x: int(x), str(n))\n",
      "New var:....... a = <map object at 0x10595e160>\n",
      "16:41:07.065255 line         7         b = map(lambda y: y*y, a)\n",
      "New var:....... b = <map object at 0x10595e198>\n",
      "16:41:07.065336 line         8         return sum(b)\n",
      "16:41:07.065399 return       8         return sum(b)\n",
      "Return value:.. 49\n",
      "Starting var:.. self = <__main__.Solution object at 0x1058ab470>\n",
      "Starting var:.. n = 49\n",
      "16:41:07.065704 call         5     def next_num(self, n:int)->bool:\n",
      "16:41:07.065775 line         6         a = map(lambda x: int(x), str(n))\n",
      "New var:....... a = <map object at 0x10595e470>\n",
      "16:41:07.065858 line         7         b = map(lambda y: y*y, a)\n",
      "New var:....... b = <map object at 0x10595e080>\n",
      "16:41:07.065938 line         8         return sum(b)\n",
      "16:41:07.066003 return       8         return sum(b)\n",
      "Return value:.. 97\n",
      "Starting var:.. self = <__main__.Solution object at 0x1058ab470>\n",
      "Starting var:.. n = 97\n",
      "16:41:07.066422 call         5     def next_num(self, n:int)->bool:\n",
      "16:41:07.066511 line         6         a = map(lambda x: int(x), str(n))\n",
      "New var:....... a = <map object at 0x10595e240>\n",
      "16:41:07.066872 line         7         b = map(lambda y: y*y, a)\n",
      "New var:....... b = <map object at 0x105935eb8>\n",
      "16:41:07.067081 line         8         return sum(b)\n",
      "16:41:07.067160 return       8         return sum(b)\n",
      "Return value:.. 130\n",
      "Starting var:.. self = <__main__.Solution object at 0x1058ab470>\n",
      "Starting var:.. n = 130\n",
      "16:41:07.067765 call         5     def next_num(self, n:int)->bool:\n",
      "16:41:07.067900 line         6         a = map(lambda x: int(x), str(n))\n",
      "New var:....... a = <map object at 0x10595e588>\n",
      "16:41:07.067983 line         7         b = map(lambda y: y*y, a)\n",
      "New var:....... b = <map object at 0x10595e240>\n",
      "16:41:07.068158 line         8         return sum(b)\n",
      "16:41:07.068432 return       8         return sum(b)\n",
      "Return value:.. 10\n",
      "Starting var:.. self = <__main__.Solution object at 0x1058ab470>\n",
      "Starting var:.. n = 10\n",
      "16:41:07.068926 call         5     def next_num(self, n:int)->bool:\n",
      "16:41:07.069006 line         6         a = map(lambda x: int(x), str(n))\n",
      "New var:....... a = <map object at 0x10595e828>\n",
      "16:41:07.069129 line         7         b = map(lambda y: y*y, a)\n",
      "New var:....... b = <map object at 0x10595e7b8>\n",
      "16:41:07.069273 line         8         return sum(b)\n",
      "16:41:07.069383 return       8         return sum(b)\n",
      "Return value:.. 1\n"
     ]
    },
    {
     "data": {
      "text/plain": [
       "True"
      ]
     },
     "execution_count": 17,
     "metadata": {},
     "output_type": "execute_result"
    }
   ],
   "source": [
    "s = Solution()\n",
    "s.isHappy(7)"
   ]
  },
  {
   "cell_type": "code",
   "execution_count": 10,
   "metadata": {
    "collapsed": true
   },
   "outputs": [],
   "source": [
    "a = map(lambda x: int(x), [*str(n)])\n",
    "map(lambda y: y*y, a)\n",
    "b =sum(a)"
   ]
  },
  {
   "cell_type": "code",
   "execution_count": 11,
   "metadata": {},
   "outputs": [
    {
     "data": {
      "text/plain": [
       "[7]"
      ]
     },
     "execution_count": 11,
     "metadata": {},
     "output_type": "execute_result"
    }
   ],
   "source": [
    "b"
   ]
  },
  {
   "cell_type": "code",
   "execution_count": null,
   "metadata": {
    "collapsed": true
   },
   "outputs": [],
   "source": []
  }
 ],
 "metadata": {
  "kernelspec": {
   "display_name": "Python 3",
   "language": "python",
   "name": "python3"
  },
  "language_info": {
   "codemirror_mode": {
    "name": "ipython",
    "version": 3
   },
   "file_extension": ".py",
   "mimetype": "text/x-python",
   "name": "python",
   "nbconvert_exporter": "python",
   "pygments_lexer": "ipython3",
   "version": "3.6.1"
  }
 },
 "nbformat": 4,
 "nbformat_minor": 2
}

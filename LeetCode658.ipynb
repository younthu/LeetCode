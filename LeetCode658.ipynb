{
 "cells": [
  {
   "cell_type": "code",
   "execution_count": 1,
   "metadata": {
    "collapsed": true
   },
   "outputs": [],
   "source": [
    "from bisect import bisect_left\n",
    "from typing import List\n",
    "class Solution:\n",
    "    def findClosestElements(self, arr: List[int], k: int, x: int) -> List[int]:\n",
    "        mid = bisect_left(arr, x)\n",
    "        left = mid - (k + 1)>>1\n",
    "        l = len(arr)\n",
    "        if l == 1:\n",
    "            return arr\n",
    "        target = x\n",
    "        nums = arr\n",
    "        if left < 0:\n",
    "            left = 0\n",
    "        right = left + k\n",
    "        \n",
    "        if right > l:\n",
    "            right = l\n",
    "        \n",
    "        # 开始平移\n",
    "        while True:        \n",
    "            # 数组在最右边\n",
    "            if right == l:\n",
    "                if target - nums[left - 1] > nums[right - 1]  - target: # 左移不动了\n",
    "                    break\n",
    "                else:\n",
    "                    left  -= 1\n",
    "                    right -= 1\n",
    "                    continue \n",
    "            # 数组在最左边的情况\n",
    "            if left == 0:\n",
    "                # 不可以右移\n",
    "                if target - nums[0] <= nums[right ] - target:\n",
    "                    break\n",
    "                else:\n",
    "                    left += 1\n",
    "                    right += 1\n",
    "                    continue\n",
    "            # 数组在中间的情况\n",
    "            # 向左移动\n",
    "            if target - nums[left - 1] <= nums[right - 1] - target:\n",
    "                left -= 1\n",
    "                right -=1\n",
    "            elif target - nums[left ] > nums[right ] - target: # 向右移动\n",
    "                left  += 1\n",
    "                right += 1\n",
    "            else:\n",
    "                break\n",
    "        return arr[left:right]"
   ]
  },
  {
   "cell_type": "markdown",
   "metadata": {},
   "source": [
    "Runtime: 128 ms, faster than 75.51% of Python3 online submissions for Find K Closest Elements.\n",
    "Memory Usage: 14.3 MB, less than 59.28% of Python3 online submissions for Find K Closest Elements."
   ]
  }
 ],
 "metadata": {
  "kernelspec": {
   "display_name": "Python 3",
   "language": "python",
   "name": "python3"
  },
  "language_info": {
   "codemirror_mode": {
    "name": "ipython",
    "version": 3
   },
   "file_extension": ".py",
   "mimetype": "text/x-python",
   "name": "python",
   "nbconvert_exporter": "python",
   "pygments_lexer": "ipython3",
   "version": "3.6.1"
  }
 },
 "nbformat": 4,
 "nbformat_minor": 2
}

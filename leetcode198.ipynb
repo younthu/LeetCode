{
 "cells": [
  {
   "cell_type": "code",
   "execution_count": 9,
   "metadata": {
    "collapsed": true
   },
   "outputs": [],
   "source": [
    "class Solution:\n",
    "    def rob(self, nums):\n",
    "        \"\"\"\n",
    "        :type nums: List[int]\n",
    "        :rtype: int\n",
    "        爬楼梯问题，你可以从n-2爬上来，也可以从n-3爬上来\n",
    "        \"\"\"\n",
    "        l = len(nums)\n",
    "        if l==0:\n",
    "            return 0\n",
    "        elif l == 1:\n",
    "            return nums[0]\n",
    "        elif l == 2:\n",
    "            return nums[0] if nums[0]>nums[1] else nums[1]\n",
    "        \n",
    "        max0 = nums[0] # 最后节点为[n-3]的最大和\n",
    "        max1 = nums[1] # 最后节点为[n-2]的最大和\n",
    "        max2 = nums[0] + nums[2] # 最后节点为[n-1]的最大和\n",
    "        \n",
    "        for i in range(3, len(nums)):\n",
    "            sum0 = max0 + nums[i]\n",
    "            sum1 = max1 + nums[i]\n",
    "            max0 = max1\n",
    "            max1 = max2\n",
    "            max2 = sum0 if sum0 > sum1 else sum1 # 你要跳到最后节点要么从n-3过来，要么从n-2过来\n",
    "        \n",
    "        return max2 if max2 > max1 else max1"
   ]
  },
  {
   "cell_type": "code",
   "execution_count": 8,
   "metadata": {
    "collapsed": true
   },
   "outputs": [],
   "source": [
    "s = Solution()"
   ]
  },
  {
   "cell_type": "code",
   "execution_count": 10,
   "metadata": {},
   "outputs": [
    {
     "name": "stdout",
     "output_type": "stream",
     "text": [
      "CPU times: user 44 µs, sys: 1e+03 ns, total: 45 µs\n",
      "Wall time: 48.2 µs\n"
     ]
    },
    {
     "data": {
      "text/plain": [
       "2840"
      ]
     },
     "execution_count": 10,
     "metadata": {},
     "output_type": "execute_result"
    }
   ],
   "source": [
    "%time s.rob([5,2,3,9,99,3,8,33,2,3,9,99,3,8,33,2,3,9,99,3,8,33,2,3,9,99,3,8,33,2,3,9,99,3,8,33,2,3,9,99,3,8,33,2,3,9,99,3,8,33,2,3,9,99,3,8,33,2,3,9,99,3,8,33,2,3,9,99,3,8,33,2,3,9,99,3,8,33,2,3,9,99,3,8,33,2,3,9,99,3,8,33,2,3,9,99,3,8,33,2,3,9,99,3,8,33,2,3,9,99,3,8,33,2,3,9,99,3,8,33,2,3,9,99,3,8,33,2,3,9,99,3,8,33,2,3,9,99,3,8,33,2,3,9,99,3,8,33])"
   ]
  },
  {
   "cell_type": "code",
   "execution_count": 5,
   "metadata": {
    "collapsed": true
   },
   "outputs": [],
   "source": [
    "# https://leetcode.com/problems/house-robber/discuss/55696/Python-solution-3-lines.\n",
    "class Solution2:\n",
    "    \n",
    "    def rob(self, nums):\n",
    "        \n",
    "        last, now = 0, 0 # 爬楼梯逻辑，最大值肯定是从最后两步里面取\n",
    "        \n",
    "        for i in nums: last, now = now, max(last + i, now)# \n",
    "                \n",
    "        return now"
   ]
  },
  {
   "cell_type": "code",
   "execution_count": 6,
   "metadata": {
    "collapsed": true
   },
   "outputs": [],
   "source": [
    "s2 = Solution2()"
   ]
  },
  {
   "cell_type": "code",
   "execution_count": 7,
   "metadata": {},
   "outputs": [
    {
     "name": "stdout",
     "output_type": "stream",
     "text": [
      "CPU times: user 47 µs, sys: 1e+03 ns, total: 48 µs\n",
      "Wall time: 52.9 µs\n"
     ]
    },
    {
     "data": {
      "text/plain": [
       "2840"
      ]
     },
     "execution_count": 7,
     "metadata": {},
     "output_type": "execute_result"
    }
   ],
   "source": [
    "%time s2.rob([5,2,3,9,99,3,8,33,2,3,9,99,3,8,33,2,3,9,99,3,8,33,2,3,9,99,3,8,33,2,3,9,99,3,8,33,2,3,9,99,3,8,33,2,3,9,99,3,8,33,2,3,9,99,3,8,33,2,3,9,99,3,8,33,2,3,9,99,3,8,33,2,3,9,99,3,8,33,2,3,9,99,3,8,33,2,3,9,99,3,8,33,2,3,9,99,3,8,33,2,3,9,99,3,8,33,2,3,9,99,3,8,33,2,3,9,99,3,8,33,2,3,9,99,3,8,33,2,3,9,99,3,8,33,2,3,9,99,3,8,33,2,3,9,99,3,8,33])"
   ]
  },
  {
   "cell_type": "code",
   "execution_count": null,
   "metadata": {
    "collapsed": true
   },
   "outputs": [],
   "source": []
  }
 ],
 "metadata": {
  "kernelspec": {
   "display_name": "Python 3",
   "language": "python",
   "name": "python3"
  },
  "language_info": {
   "codemirror_mode": {
    "name": "ipython",
    "version": 3
   },
   "file_extension": ".py",
   "mimetype": "text/x-python",
   "name": "python",
   "nbconvert_exporter": "python",
   "pygments_lexer": "ipython3",
   "version": "3.6.1"
  }
 },
 "nbformat": 4,
 "nbformat_minor": 2
}

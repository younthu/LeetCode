{
 "cells": [
  {
   "cell_type": "code",
   "execution_count": 14,
   "metadata": {},
   "outputs": [],
   "source": [
    "from typing import List\n",
    "class Solution:\n",
    "    def merge(self, nums1: List[int], m: int, nums2: List[int], n: int) -> None:\n",
    "        \"\"\"\n",
    "        Do not return anything, modify nums1 in-place instead.\n",
    "        \"\"\"\n",
    "        if n == 0:\n",
    "            return\n",
    "        if m == 0:\n",
    "            for i in range(n):\n",
    "                nums1[i] = nums2[i]\n",
    "        \n",
    "        cur1 = m - 1\n",
    "        cur2 = n - 1\n",
    "        l = m + n - 1\n",
    "        while cur1 >=0 or cur2 >=0:\n",
    "            if cur1 < 0:\n",
    "                print(nums2[cur2])\n",
    "                nums1[l] = nums2[cur2]\n",
    "                cur2 -=1\n",
    "                l -=1\n",
    "                continue\n",
    "            if cur2 < 0:\n",
    "                return\n",
    "            n1 = nums1[cur1]\n",
    "            n2 = nums2[cur2]\n",
    "            if n1 < n2:\n",
    "                nums1[l] = n2\n",
    "                cur2 -=1\n",
    "                l -=1\n",
    "            else:\n",
    "                nums1[l] = n1 \n",
    "                cur1 -=1\n",
    "                l -= 1\n",
    "            \n",
    "            print(n1,n2, nums1)\n",
    "\n"
   ]
  },
  {
   "cell_type": "code",
   "execution_count": 3,
   "metadata": {},
   "outputs": [
    {
     "data": {
      "text/plain": [
       "[1, 2, 2, 3, 5, 6]"
      ]
     },
     "execution_count": 3,
     "metadata": {},
     "output_type": "execute_result"
    }
   ],
   "source": [
    "n1 = [1,2,3,0,0,0]\n",
    "n2 = [2,5,6]\n",
    "Solution().merge(n1, 3, n2, 3)\n",
    "n1"
   ]
  },
  {
   "cell_type": "code",
   "execution_count": 13,
   "metadata": {},
   "outputs": [
    {
     "name": "stdout",
     "output_type": "stream",
     "text": [
      "6 3 [4, 5, 6, 0, 0, 6]\n",
      "5 3 [4, 5, 6, 0, 5, 6]\n",
      "4 3 [4, 5, 6, 4, 5, 6]\n",
      "3\n",
      "6 2 [4, 6, 3, 4, 5, 6]\n",
      "2\n",
      "5 1 [2, 6, 3, 4, 5, 5]\n",
      "1\n"
     ]
    },
    {
     "data": {
      "text/plain": [
       "[2, 6, 3, 4, 1, 5]"
      ]
     },
     "execution_count": 13,
     "metadata": {},
     "output_type": "execute_result"
    }
   ],
   "source": [
    "n1 = [4,5,6,0,0,0]\n",
    "n2 = [1,2,3]\n",
    "Solution().merge(n1, 3, n2, 3)\n",
    "n1"
   ]
  },
  {
   "cell_type": "code",
   "execution_count": null,
   "metadata": {},
   "outputs": [],
   "source": []
  }
 ],
 "metadata": {
  "kernelspec": {
   "display_name": "Python 3",
   "language": "python",
   "name": "python3"
  },
  "language_info": {
   "codemirror_mode": {
    "name": "ipython",
    "version": 3
   },
   "file_extension": ".py",
   "mimetype": "text/x-python",
   "name": "python",
   "nbconvert_exporter": "python",
   "pygments_lexer": "ipython3",
   "version": "3.7.6"
  }
 },
 "nbformat": 4,
 "nbformat_minor": 4
}

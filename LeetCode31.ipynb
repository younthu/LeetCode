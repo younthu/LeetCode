{
 "cells": [
  {
   "cell_type": "code",
   "execution_count": 1,
   "metadata": {
    "collapsed": true
   },
   "outputs": [],
   "source": [
    "# \n",
    "from typing import List\n",
    "import pysnooper\n",
    "\n",
    "class Solution:\n",
    "    @pysnooper.snoop()\n",
    "    def nextPermutation(self, nums: List[int]) -> None:\n",
    "        \"\"\"\n",
    "        Do not return anything, modify nums in-place instead.\n",
    "        \"\"\"\n",
    "        l = len(nums)\n",
    "        left_digit = l - 2\n",
    "        if l == 1:\n",
    "            return\n",
    "        \n",
    "        # 找到要调整的最高位\n",
    "        while left_digit >= 0:\n",
    "            if nums[left_digit] < nums[left_digit + 1]: \n",
    "                break\n",
    "            left_digit -= 1\n",
    "        \n",
    "        has_next = True\n",
    "        if left_digit < 0:# 翻转数组并返回\n",
    "            has_next = False\n",
    "        \n",
    "        s_left = left_digit + 1\n",
    "        s_right = l - 1\n",
    "        while(s_left < s_right):\n",
    "            temp = nums[s_left]\n",
    "            nums[s_left] = nums[s_right]\n",
    "            nums[s_right] = temp\n",
    "            s_left  += 1\n",
    "            s_right -= 1\n",
    "            \n",
    "        if not has_next:\n",
    "            return\n",
    "        \n",
    "        right_digit = left_digit + 1\n",
    "        # 找到要交换的位置\n",
    "        while right_digit < l and nums[right_digit] < nums[left_digit]:\n",
    "            right_digit += 1\n",
    "        right_digit -= 1 # 返回到第一个大于left_digit的位置\n",
    "        \n",
    "        # 交换两个数\n",
    "        temp = nums[left_digit]\n",
    "        nums[left_digit] = nums[right_digit]\n",
    "        nums[right_digit] = temp\n",
    "        "
   ]
  },
  {
   "cell_type": "code",
   "execution_count": 2,
   "metadata": {},
   "outputs": [
    {
     "name": "stderr",
     "output_type": "stream",
     "text": [
      "Starting var:.. self = <__main__.Solution object at 0x1064f6240>\n",
      "Starting var:.. nums = [1, 2, 3]\n",
      "12:57:58.475231 call         7     def nextPermutation(self, nums: List[int]) -> None:\n",
      "12:57:58.475394 line        11         l = len(nums)\n",
      "New var:....... l = 3\n",
      "12:57:58.475486 line        12         left_digit = l - 2\n",
      "New var:....... left_digit = 1\n",
      "12:57:58.475570 line        13         if l == 1:\n",
      "12:57:58.475631 line        17         while left_digit >= 0:\n",
      "12:57:58.475691 line        18             if nums[left_digit] < nums[left_digit + 1]: \n",
      "12:57:58.475979 line        19                 break\n",
      "12:57:58.476106 line        22         has_next = True\n",
      "New var:....... has_next = True\n",
      "12:57:58.476263 line        23         if left_digit < 0:# 翻转数组并返回\n",
      "12:57:58.476375 line        26         s_left = left_digit + 1\n",
      "New var:....... s_left = 2\n",
      "12:57:58.476563 line        27         s_right = l - 1\n",
      "New var:....... s_right = 2\n",
      "12:57:58.476692 line        28         while(s_left < s_right):\n",
      "12:57:58.476772 line        35         if not has_next:\n",
      "12:57:58.476839 line        38         right_digit = left_digit + 1\n",
      "New var:....... right_digit = 2\n",
      "12:57:58.476924 line        40         while right_digit < l and nums[right_digit] < nums[left_digit]:\n",
      "12:57:58.476998 line        42         right_digit -= 1 # 返回到第一个大于left_digit的位置\n",
      "Modified var:.. right_digit = 1\n",
      "12:57:58.477083 line        45         temp = nums[left_digit]\n",
      "New var:....... temp = 2\n",
      "12:57:58.477167 line        46         nums[left_digit] = nums[right_digit]\n",
      "12:57:58.477231 line        47         nums[right_digit] = temp\n",
      "12:57:58.477294 return      47         nums[right_digit] = temp\n",
      "Return value:.. None\n"
     ]
    },
    {
     "data": {
      "text/plain": [
       "[1, 2, 3]"
      ]
     },
     "execution_count": 2,
     "metadata": {},
     "output_type": "execute_result"
    }
   ],
   "source": [
    "s = Solution()\n",
    "a = [1,2,3]\n",
    "s.nextPermutation(a)\n",
    "a"
   ]
  },
  {
   "cell_type": "markdown",
   "metadata": {
    "collapsed": true
   },
   "source": [
    "Runtime: 28 ms, faster than 99.95% of Python3 online submissions for Next Permutation.\n",
    "Memory Usage: 13.1 MB, less than 65.21% of Python3 online submissions for Next Permutation."
   ]
  },
  {
   "cell_type": "code",
   "execution_count": null,
   "metadata": {
    "collapsed": true
   },
   "outputs": [],
   "source": []
  }
 ],
 "metadata": {
  "kernelspec": {
   "display_name": "Python 3",
   "language": "python",
   "name": "python3"
  },
  "language_info": {
   "codemirror_mode": {
    "name": "ipython",
    "version": 3
   },
   "file_extension": ".py",
   "mimetype": "text/x-python",
   "name": "python",
   "nbconvert_exporter": "python",
   "pygments_lexer": "ipython3",
   "version": "3.6.1"
  }
 },
 "nbformat": 4,
 "nbformat_minor": 2
}

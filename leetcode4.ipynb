{
 "cells": [
  {
   "cell_type": "code",
   "execution_count": 91,
   "metadata": {
    "collapsed": true
   },
   "outputs": [],
   "source": [
    "#https://leetcode.com/problems/median-of-two-sorted-arrays/\n",
    "from typing import List\n",
    "import pysnooper\n",
    "\n",
    "class Solution:\n",
    "       def findMedianSortedArrays(self, nums1: List[int], nums2: List[int]) -> float:\n",
    "        combined_list = nums1 + nums2\n",
    "        sorted_combined_list = sorted(combined_list)\n",
    "        len_of_list = len(sorted_combined_list)\n",
    "        median_index_1 = ((len_of_list + 1) // 2) - 1 # floor\n",
    "        median_index_2 = (-(-(len_of_list + 1) // 2)) - 1 # ceiling\n",
    "        median = (sorted_combined_list[median_index_1] + sorted_combined_list[median_index_2]) / 2\n",
    "        return median\n",
    "    \n",
    "class Solution2:\n",
    "    \"\"\"\n",
    "    数掉一半的\n",
    "    \"\"\"\n",
    "    def findMedianSortedArrays(self, nums1: List[int], nums2: List[int]) -> float:\n",
    "        "
   ]
  },
  {
   "cell_type": "code",
   "execution_count": 92,
   "metadata": {},
   "outputs": [
    {
     "data": {
      "text/plain": [
       "4.0"
      ]
     },
     "execution_count": 92,
     "metadata": {},
     "output_type": "execute_result"
    }
   ],
   "source": [
    "s = Solution()\n",
    "s1 = Solution()\n",
    "s3 = Solution()\n",
    "# s.findMedianSortedArrays([1,2],[3,4]),s1.findMedianSortedArrays([8,9],[5,6]),s3.findMedianSortedArrays([1,2,3],[7,8])\n",
    "\n",
    "s4 = Solution()\n",
    "# s4.findMedianSortedArrays([1,2,3,4,10,11,12,13],[5,6,7,8,9])\n",
    "\n",
    "s5 = Solution()\n",
    "#s5.findMedianSortedArrays([1,2,3],[4])\n",
    "\n",
    "s6 = Solution()\n",
    "s6.findMedianSortedArrays([5,6],[1,2,3,4,7])\n"
   ]
  },
  {
   "cell_type": "code",
   "execution_count": 51,
   "metadata": {},
   "outputs": [
    {
     "name": "stdout",
     "output_type": "stream",
     "text": [
      "[1, 2, 3]\n",
      "[1, 2, 3, 4]\n"
     ]
    },
    {
     "data": {
      "text/plain": [
       "(2, 2.5, 4.5, 5)"
      ]
     },
     "execution_count": 51,
     "metadata": {},
     "output_type": "execute_result"
    }
   ],
   "source": [
    "mergeAndFindSolution([1,3],[2]), mergeAndFindSolution([1,2],[3,4]), median_num([1,2,3,4,5,6,7,8]), median_num([1,2,3,4,5,6,7,8,9])"
   ]
  },
  {
   "cell_type": "code",
   "execution_count": 25,
   "metadata": {},
   "outputs": [
    {
     "data": {
      "text/plain": [
       "False"
      ]
     },
     "execution_count": 25,
     "metadata": {},
     "output_type": "execute_result"
    }
   ],
   "source": [
    "(False, 1)[0]"
   ]
  },
  {
   "cell_type": "code",
   "execution_count": 45,
   "metadata": {},
   "outputs": [
    {
     "data": {
      "text/plain": [
       "False"
      ]
     },
     "execution_count": 45,
     "metadata": {},
     "output_type": "execute_result"
    }
   ],
   "source": [
    "3 > 2 > 2"
   ]
  },
  {
   "cell_type": "code",
   "execution_count": null,
   "metadata": {
    "collapsed": true
   },
   "outputs": [],
   "source": []
  }
 ],
 "metadata": {
  "kernelspec": {
   "display_name": "Python 3",
   "language": "python",
   "name": "python3"
  },
  "language_info": {
   "codemirror_mode": {
    "name": "ipython",
    "version": 3
   },
   "file_extension": ".py",
   "mimetype": "text/x-python",
   "name": "python",
   "nbconvert_exporter": "python",
   "pygments_lexer": "ipython3",
   "version": "3.6.1"
  }
 },
 "nbformat": 4,
 "nbformat_minor": 2
}

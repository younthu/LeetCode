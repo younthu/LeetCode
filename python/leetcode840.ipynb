{
 "cells": [
  {
   "cell_type": "markdown",
   "metadata": {},
   "source": [
    "# [840. Magic Squares In Grid](https://leetcode.com/problems/magic-squares-in-grid/)\n",
    "这是一个很坑，题目开头写取值范围为`1 to 9`, 但是题尾里面写的却是`0 <= grid[i][j] <= 15`, 坑人.\n",
    "\n",
    "A 3 x 3 magic square is a 3 x 3 grid filled with distinct numbers from __1 to 9__ such that each row, column, and both diagonals all have the same sum.\n",
    "\n",
    "Given an grid of integers, how many 3 x 3 \"magic square\" subgrids are there?  (Each subgrid is contiguous).\n",
    "\n",
    "~~~\n",
    "1 <= grid.length <= 10\n",
    "1 <= grid[0].length <= 10\n",
    "0 <= grid[i][j] <= 15\n",
    "~~~"
   ]
  },
  {
   "cell_type": "code",
   "execution_count": 44,
   "metadata": {
    "collapsed": true
   },
   "outputs": [],
   "source": [
    "class Solution:\n",
    "    def numMagicSquaresInside(self, grid):\n",
    "        \"\"\"\n",
    "        :type grid: List[List[int]]\n",
    "        :rtype: int\n",
    "        \"\"\"\n",
    "        col_num = len(grid[0])\n",
    "        row_num = len(grid)\n",
    "        count = 0\n",
    "        if col_num < 3 or row_num < 3:\n",
    "            return 0\n",
    "        \n",
    "        for col in range(0, col_num - 2):\n",
    "            \n",
    "            for row in range(0, row_num - 2):\n",
    "                if row + 3 > row_num:\n",
    "                    break;\n",
    "                    \n",
    "                row_s1 = sum(grid[row][col:col+3])\n",
    "                \n",
    "                if grid[row + 1][col+1]*3 != row_s1: # 中心数必须是和的三分之一\n",
    "                    continue;\n",
    "                \n",
    "                break_num_scope = False;\n",
    "                for i in range(col, col + 3):\n",
    "                    for j in range(row, row + 3):\n",
    "                        if grid[j][i] <= 0 or grid[j][i] >= 10: # 注意i,j 别搞反了，grid[row][col] == grid[j][i], 刚开始搞反了，浪费时间调试 \n",
    "                            break_num_scope = True\n",
    "                            break\n",
    "                    if break_num_scope:\n",
    "                        break\n",
    "                if break_num_scope:\n",
    "                    continue\n",
    "                        \n",
    "                if row_s1 != sum(grid[row+1][col:col+3]): # row 2\n",
    "                    continue\n",
    "                if row_s1 != sum(grid[row+2][col:col+3]): # row 3\n",
    "                    continue\n",
    "                if row_s1 != (grid[row][col] + grid[row +1][col] + grid[row + 2][col]): # col 1\n",
    "                    continue\n",
    "                if row_s1 != (grid[row][col+1] + grid[row +1][col+1] + grid[row + 2][col+1]): # col 2\n",
    "                    continue\n",
    "                if row_s1 != (grid[row][col +2] + grid[row +1][col+2] + grid[row + 2][col+2]): # col 3\n",
    "                    continue\n",
    "                if row_s1 != (grid[row][col] + grid[row +1][col+1] + grid[row + 2][col+2]): # diagonal top left -> bottom right\n",
    "                    continue\n",
    "                if row_s1 != (grid[row][col + 2] + grid[row + 1 ][col + 1] + grid[row + 2][col]): # diagonal top right to bottom left\n",
    "                    continue\n",
    "                \n",
    "                \n",
    "                count += 1\n",
    "        \n",
    "        return count"
   ]
  },
  {
   "cell_type": "code",
   "execution_count": 13,
   "metadata": {},
   "outputs": [
    {
     "data": {
      "text/plain": [
       "0"
      ]
     },
     "execution_count": 13,
     "metadata": {},
     "output_type": "execute_result"
    }
   ],
   "source": [
    "Solution().numMagicSquaresInside(\n",
    "[[10,3,5],[1,6,11],[7,9,2]]) # expects 0, 因为11 > 9\n"
   ]
  },
  {
   "cell_type": "code",
   "execution_count": 14,
   "metadata": {},
   "outputs": [
    {
     "data": {
      "text/plain": [
       "1"
      ]
     },
     "execution_count": 14,
     "metadata": {},
     "output_type": "execute_result"
    }
   ],
   "source": [
    "Solution().numMagicSquaresInside([[8,1,6],[3,5,7],[4,9,2]]) # expects 1\n"
   ]
  },
  {
   "cell_type": "code",
   "execution_count": 45,
   "metadata": {},
   "outputs": [
    {
     "data": {
      "text/plain": [
       "1"
      ]
     },
     "execution_count": 45,
     "metadata": {},
     "output_type": "execute_result"
    }
   ],
   "source": [
    "Solution().numMagicSquaresInside([[9,0,8,1,6],[2,4,3,5,7],[4,3,4,9,2],[2,4,5,6,1],[9,8,0,7,8]]) \n",
    "# expects 1, subgrid [0,2] to [3,5]"
   ]
  },
  {
   "cell_type": "code",
   "execution_count": null,
   "metadata": {
    "collapsed": true
   },
   "outputs": [],
   "source": []
  }
 ],
 "metadata": {
  "kernelspec": {
   "display_name": "Python 3",
   "language": "python",
   "name": "python3"
  },
  "language_info": {
   "codemirror_mode": {
    "name": "ipython",
    "version": 3
   },
   "file_extension": ".py",
   "mimetype": "text/x-python",
   "name": "python",
   "nbconvert_exporter": "python",
   "pygments_lexer": "ipython3",
   "version": "3.6.1"
  }
 },
 "nbformat": 4,
 "nbformat_minor": 2
}

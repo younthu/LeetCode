{
 "cells": [
  {
   "cell_type": "code",
   "execution_count": 1,
   "metadata": {
    "collapsed": true
   },
   "outputs": [],
   "source": [
    "from bisect import bisect_left, bisect_right\n",
    "from typing import List\n",
    "class Solution:\n",
    "    def searchRange(self, nums: List[int], target: int) -> List[int]:\n",
    "        left = bisect_left(nums, target)\n",
    "        right = bisect_right(nums,target)\n",
    "        l = len(nums)\n",
    "        \n",
    "        if left != l and nums[left] == target:\n",
    "            pass\n",
    "        else:\n",
    "            left = -1\n",
    "        \n",
    "        right -= 1\n",
    "        \n",
    "        if right >= 0 and nums[right] == target:\n",
    "            pass\n",
    "        else:\n",
    "            right = -1\n",
    "        \n",
    "        return [left, right]\n",
    "            "
   ]
  },
  {
   "cell_type": "markdown",
   "metadata": {},
   "source": [
    "Runtime: 36 ms, faster than 88.27% of Python3 online submissions for Find First and Last Position of Element in Sorted Array.\n",
    "Memory Usage: 13.7 MB, less than 87.20% of Python3 online submissions for Find First and Last Position of Element in Sorted Array.\n"
   ]
  }
 ],
 "metadata": {
  "kernelspec": {
   "display_name": "Python 3",
   "language": "python",
   "name": "python3"
  },
  "language_info": {
   "codemirror_mode": {
    "name": "ipython",
    "version": 3
   },
   "file_extension": ".py",
   "mimetype": "text/x-python",
   "name": "python",
   "nbconvert_exporter": "python",
   "pygments_lexer": "ipython3",
   "version": "3.6.1"
  }
 },
 "nbformat": 4,
 "nbformat_minor": 2
}

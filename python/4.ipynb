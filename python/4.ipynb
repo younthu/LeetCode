{
 "cells": [
  {
   "cell_type": "code",
   "execution_count": 1,
   "metadata": {},
   "outputs": [
    {
     "ename": "SyntaxError",
     "evalue": "unexpected EOF while parsing (<ipython-input-1-11b2836507ac>, line 14)",
     "output_type": "error",
     "traceback": [
      "\u001b[0;36m  File \u001b[0;32m\"<ipython-input-1-11b2836507ac>\"\u001b[0;36m, line \u001b[0;32m14\u001b[0m\n\u001b[0;31m    \u001b[0m\n\u001b[0m    ^\u001b[0m\n\u001b[0;31mSyntaxError\u001b[0m\u001b[0;31m:\u001b[0m unexpected EOF while parsing\n"
     ]
    }
   ],
   "source": [
    "class Solution:\n",
    "    def findMedianSortedArrays(self, nums1: List[int], nums2: List[int]) -> float:\n",
    "        m = len(nums1)\n",
    "        n = len(nums2)\n",
    "        k = m + n \n",
    "        mid_index = (m + n) / 2 # 相当于floor, 奇数时刚好为目标值, 偶数时刚好为两个目标数中右边的那个。\n",
    "        m_left_index = -1\n",
    "        n_left_index = -1\n",
    "        left_value1 = 0\n",
    "        left_value2 = 0\n",
    "        is_odd = (m+n) % 2 == 1\n",
    "\n",
    "        # 先处理特殊情况\n",
    "        if m == 0:\n",
    "            return nums1[mid_index] if is_odd else nums1[mid_index - 1] + nums1[mid_index ]\n",
    "        if n == 0:\n",
    "            return mnums2[mid_index] if is_odd else nums2[mid_index - 1] + nums2[mid_index ]\n",
    "        \n",
    "        # 快排查找\n",
    "        m_left_index = m /2\n",
    "        n_left_index = n /2\n",
    "        ##\n",
    "        if m[m_left_index]\n",
    "    def findInIndexSortedArrays(self, nums1: List[int], nums2: List[int], index1: int,index2: int) -> float:\n",
    "        m = len(nums1)\n",
    "        n = len(nums2)\n",
    "        # 先处理特殊情况\n",
    "        if m == 0:\n",
    "            return nums1[index1] if index1 == index2 else (nums1[index1] + nums1[index2 ])/2\n",
    "        if n == 0:\n",
    "            return nums2[index1] if index1 == index2 else (nums2[index1] + nums2[index2 ]) /2\n",
    "        \n",
    "        # 快速排除一半\n",
    "        m2 = m /2\n",
    "        n2 = n /2\n",
    "        if nums1[m2] < nums2[n2]:\n",
    "            self.findIndexSortedArrays(nums1[m2:], nums2[:n2], index1 - m2, index2 - n2)\n",
    "        \n",
    "                "
   ]
  },
  {
   "cell_type": "code",
   "execution_count": 2,
   "metadata": {},
   "outputs": [
    {
     "data": {
      "text/plain": [
       "True"
      ]
     },
     "execution_count": 2,
     "metadata": {},
     "output_type": "execute_result"
    }
   ],
   "source": [
    "3 % 2 == 1"
   ]
  },
  {
   "cell_type": "code",
   "execution_count": 3,
   "metadata": {},
   "outputs": [
    {
     "data": {
      "text/plain": [
       "False"
      ]
     },
     "execution_count": 3,
     "metadata": {},
     "output_type": "execute_result"
    }
   ],
   "source": [
    "4 % 2 == 1"
   ]
  },
  {
   "cell_type": "code",
   "execution_count": 7,
   "metadata": {},
   "outputs": [
    {
     "data": {
      "text/plain": [
       "2"
      ]
     },
     "execution_count": 7,
     "metadata": {},
     "output_type": "execute_result"
    }
   ],
   "source": [
    "int(5.9/2)"
   ]
  },
  {
   "cell_type": "code",
   "execution_count": null,
   "metadata": {},
   "outputs": [],
   "source": []
  }
 ],
 "metadata": {
  "kernelspec": {
   "display_name": "Python 3",
   "language": "python",
   "name": "python3"
  },
  "language_info": {
   "codemirror_mode": {
    "name": "ipython",
    "version": 3
   },
   "file_extension": ".py",
   "mimetype": "text/x-python",
   "name": "python",
   "nbconvert_exporter": "python",
   "pygments_lexer": "ipython3",
   "version": "3.7.6"
  }
 },
 "nbformat": 4,
 "nbformat_minor": 4
}

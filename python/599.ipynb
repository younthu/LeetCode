{
 "cells": [
  {
   "cell_type": "code",
   "execution_count": null,
   "id": "c0c6e25c",
   "metadata": {},
   "outputs": [],
   "source": [
    "# https://leetcode.com/problems/minimum-index-sum-of-two-lists/\n",
    "\n",
    "class Solution:\n",
    "    def findRestaurant(self, list1: List[str], list2: List[str]) -> List[str]:\n",
    "        s1 = set(list1)\n",
    "        s2 = set(list2)\n",
    "\n",
    "        intersection = set.intersection(s1, s2)\n",
    "\n",
    "        sums = { w: list1.index(w) + list2.index(w) for w in intersection}\n",
    "        m = min(sums.values())\n",
    "        result = []\n",
    "\n",
    "        for k, v in enumerate(sums):\n",
    "            if v == m:\n",
    "                result.append(k)\n",
    "        return result;\n"
   ]
  }
 ],
 "metadata": {
  "kernelspec": {
   "display_name": "Python 3 (ipykernel)",
   "language": "python",
   "name": "python3"
  },
  "language_info": {
   "codemirror_mode": {
    "name": "ipython",
    "version": 3
   },
   "file_extension": ".py",
   "mimetype": "text/x-python",
   "name": "python",
   "nbconvert_exporter": "python",
   "pygments_lexer": "ipython3",
   "version": "3.11.5"
  }
 },
 "nbformat": 4,
 "nbformat_minor": 5
}

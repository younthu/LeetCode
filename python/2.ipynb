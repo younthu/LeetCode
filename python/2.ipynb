{
 "cells": [
  {
   "cell_type": "code",
   "execution_count": 4,
   "metadata": {},
   "outputs": [],
   "source": [
    "# Definition for singly-linked list.\n",
    "class ListNode:\n",
    "    def __init__(self, val=0, next=None):\n",
    "        self.val = val\n",
    "        self.next = next\n",
    "class Solution:\n",
    "    def addTwoNumbers(self, l1: ListNode, l2: ListNode) -> ListNode:\n",
    "        n1 = 0\n",
    "        step = 1\n",
    "        while l1:\n",
    "            n1 += l1.val * step\n",
    "            step *= 10\n",
    "            l1 = l1.next\n",
    "        n2 = 0\n",
    "        step = 1\n",
    "        while l2:\n",
    "            n2 += l2.val * step\n",
    "            step *= 10\n",
    "            l2 = l2.next\n",
    "        ret = int(n1+n2)\n",
    "        cur = None\n",
    "        head = None\n",
    "        while ret > 0:\n",
    "            node = ListNode(int(ret % 10))\n",
    "            if not head:\n",
    "                head = node\n",
    "                cur = node\n",
    "            else:\n",
    "                cur.next = node\n",
    "            cur = node \n",
    "            ret = int(ret/10)\n",
    "        return head"
   ]
  },
  {
   "cell_type": "code",
   "execution_count": 3,
   "metadata": {},
   "outputs": [
    {
     "data": {
      "text/plain": [
       "'321'"
      ]
     },
     "execution_count": 3,
     "metadata": {},
     "output_type": "execute_result"
    }
   ],
   "source": [
    "\"123\"[::-1]"
   ]
  },
  {
   "cell_type": "code",
   "execution_count": null,
   "metadata": {},
   "outputs": [],
   "source": []
  }
 ],
 "metadata": {
  "kernelspec": {
   "display_name": "Python 3",
   "language": "python",
   "name": "python3"
  },
  "language_info": {
   "codemirror_mode": {
    "name": "ipython",
    "version": 3
   },
   "file_extension": ".py",
   "mimetype": "text/x-python",
   "name": "python",
   "nbconvert_exporter": "python",
   "pygments_lexer": "ipython3",
   "version": "3.7.6"
  }
 },
 "nbformat": 4,
 "nbformat_minor": 4
}

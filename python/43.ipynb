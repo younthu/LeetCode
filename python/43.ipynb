{
 "cells": [
  {
   "cell_type": "code",
   "execution_count": 3,
   "metadata": {},
   "outputs": [],
   "source": [
    "class Solution:\n",
    "    def __init__(self):\n",
    "        self.ret = [0] * 220\n",
    "    def multiply(self, num1: str, num2: str) -> str:\n",
    "        l1 = len(num1)\n",
    "        l2 = len(num2)\n",
    "        i1 = 0\n",
    "        i2 = 0\n",
    "        while i1<l1:\n",
    "            i2 = 0\n",
    "            while i2<l2:\n",
    "                self.add(i1+i2, int(num1[l1 - 1 - i1]) * int(num2[l2 - 1 - i2]))\n",
    "                i2+=1\n",
    "            i1+=1\n",
    "        print(self.ret[0])\n",
    "        print(self.ret[])\n",
    "        return str(int(\"\".join(str(x) for x in self.ret)[::1]))\n",
    "    \n",
    "    def add(self, i:int, val:int):\n",
    "        r = self.ret[119 - i ] + val\n",
    "        self.ret[119 - i] = r %10\n",
    "        if r >=10:\n",
    "            self.add(i+1, int(r/10)) # carry\n",
    "        "
   ]
  },
  {
   "cell_type": "code",
   "execution_count": 4,
   "metadata": {},
   "outputs": [
    {
     "name": "stdout",
     "output_type": "stream",
     "text": [
      "0\n"
     ]
    },
    {
     "data": {
      "text/plain": [
       "'60000000000000000000000000000000000000000000000000000000000000000000000000000000000000000000000000000'"
      ]
     },
     "execution_count": 4,
     "metadata": {},
     "output_type": "execute_result"
    }
   ],
   "source": [
    "Solution().multiply(\"2\",\"3\")"
   ]
  },
  {
   "cell_type": "code",
   "execution_count": null,
   "metadata": {},
   "outputs": [],
   "source": []
  }
 ],
 "metadata": {
  "kernelspec": {
   "display_name": "Python 3",
   "language": "python",
   "name": "python3"
  },
  "language_info": {
   "codemirror_mode": {
    "name": "ipython",
    "version": 3
   },
   "file_extension": ".py",
   "mimetype": "text/x-python",
   "name": "python",
   "nbconvert_exporter": "python",
   "pygments_lexer": "ipython3",
   "version": "3.7.6"
  }
 },
 "nbformat": 4,
 "nbformat_minor": 4
}

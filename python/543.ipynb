{
 "cells": [
  {
   "cell_type": "code",
   "execution_count": 4,
   "id": "647325ec",
   "metadata": {},
   "outputs": [],
   "source": [
    "# https://leetcode.com/problems/diameter-of-binary-tree/description/"
   ]
  },
  {
   "cell_type": "code",
   "execution_count": 22,
   "id": "532b029b",
   "metadata": {},
   "outputs": [],
   "source": [
    "\n",
    "from typing import Optional\n",
    "# Definition for a binary tree node.\n",
    "class TreeNode:\n",
    "    def __init__(self, val=0, left=None, right=None):\n",
    "        self.val = val\n",
    "        self.left = left\n",
    "        self.right = right\n",
    "        \n",
    "    def printNode(self):\n",
    "        if not self:\n",
    "            print(\"null\")\n",
    "            return\n",
    "        print(self.val)\n",
    "        if self.left:\n",
    "            self.left.printNode();\n",
    "        if self.right:\n",
    "            self.right.printNode();\n",
    "        \n",
    "        \n",
    "                \n",
    "        \n",
    "        \n",
    "class Solution:\n",
    "    def __init__(self):\n",
    "        self.diameter = 0\n",
    "\n",
    "    def diameterOfBinaryTree(self, root: Optional[TreeNode]) -> int:\n",
    "        self.zeroNodes(root);\n",
    "        self.markHeight(root);\n",
    "        self.traversal(root);\n",
    "        return self.diameter\n",
    "    \n",
    "    def zeroNodes(self, node: TreeNode):\n",
    "        if not node:\n",
    "            return\n",
    "        node.val = 0;\n",
    "        self.zeroNodes(node.left)\n",
    "        self.zeroNodes(node.right)\n",
    "\n",
    "    def markHeight(self, node: TreeNode):\n",
    "        if not node:\n",
    "            return 0\n",
    "        if (not node.left) and (not node.right):\n",
    "            node.val = 1\n",
    "            return 1\n",
    "        height = max(self.markHeight(node.left), self.markHeight(node.right)) + 1;\n",
    "        node.val = height;\n",
    "        return height;\n",
    "\n",
    "    def traversal(self, node: TreeNode):\n",
    "        if not node:\n",
    "            return;\n",
    "        leftHeight = node.left.val if node.left else 0;\n",
    "        rightHeight = node.right.val if node.right else 0\n",
    "\n",
    "        self.diameter = max(self.diameter, leftHeight + rightHeight)\n",
    "        \n",
    "        self.traversal(node.left)\n",
    "        self.traversal(node.right)\n",
    "        "
   ]
  },
  {
   "cell_type": "code",
   "execution_count": 3,
   "id": "c9208f20",
   "metadata": {},
   "outputs": [],
   "source": [
    "# python optional is not defined\n",
    "from typing import Optional"
   ]
  },
  {
   "cell_type": "code",
   "execution_count": 23,
   "id": "a3e30316",
   "metadata": {},
   "outputs": [
    {
     "name": "stdout",
     "output_type": "stream",
     "text": [
      "2\n",
      "3\n",
      "2\n",
      "1\n"
     ]
    }
   ],
   "source": [
    "# [2,3,null,1], expect 2\n",
    "#     2\n",
    "#   3\n",
    "#      1\n",
    "node1 = TreeNode(1, None, None)\n",
    "node3 = TreeNode(3, None, node1)\n",
    "root = TreeNode(2,node3, None)\n",
    "\n",
    "s = Solution();\n",
    "r = s.diameterOfBinaryTree(root);\n",
    "print(r)\n",
    "root.printNode()"
   ]
  },
  {
   "cell_type": "code",
   "execution_count": 25,
   "id": "59952273",
   "metadata": {},
   "outputs": [
    {
     "name": "stdout",
     "output_type": "stream",
     "text": [
      "3\n",
      "3\n",
      "2\n",
      "1\n",
      "1\n",
      "1\n"
     ]
    }
   ],
   "source": [
    "# [1,2,3,4,5], expect 3\n",
    "#      1\n",
    "#   2    3\n",
    "# 4   5\n",
    "node5 = TreeNode(5)\n",
    "node4 = TreeNode(4)\n",
    "node3 = TreeNode(3)\n",
    "node2 = TreeNode(2, node4, node5)\n",
    "root  = TreeNode(1, node2, node3)\n",
    "\n",
    "s = Solution();\n",
    "r = s.diameterOfBinaryTree(root);\n",
    "print(r)\n",
    "root.printNode()"
   ]
  },
  {
   "cell_type": "code",
   "execution_count": null,
   "id": "da6ab7fa",
   "metadata": {},
   "outputs": [],
   "source": []
  }
 ],
 "metadata": {
  "kernelspec": {
   "display_name": "Python 3 (ipykernel)",
   "language": "python",
   "name": "python3"
  },
  "language_info": {
   "codemirror_mode": {
    "name": "ipython",
    "version": 3
   },
   "file_extension": ".py",
   "mimetype": "text/x-python",
   "name": "python",
   "nbconvert_exporter": "python",
   "pygments_lexer": "ipython3",
   "version": "3.11.5"
  }
 },
 "nbformat": 4,
 "nbformat_minor": 5
}

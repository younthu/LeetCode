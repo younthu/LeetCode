{
 "cells": [
  {
   "cell_type": "code",
   "execution_count": null,
   "metadata": {},
   "outputs": [],
   "source": [
    "class Solution:\n",
    "    def maxSubArray(self, nums: List[int]) -> int:\n",
    "        if len(nums) == 0:\n",
    "            return 0\n",
    "        max = nums[0]\n",
    "        s = max\n",
    "        index = 1\n",
    "        l = len(nums)\n",
    "        while index < l:\n",
    "            if s < 0:\n",
    "                s = nums[index]\n",
    "            else:\n",
    "                s += nums[index]\n",
    "            if s > max:\n",
    "                max = s\n",
    "            index+=1\n",
    "        return max\n",
    "            "
   ]
  }
 ],
 "metadata": {
  "kernelspec": {
   "display_name": "Python 3",
   "language": "python",
   "name": "python3"
  },
  "language_info": {
   "codemirror_mode": {
    "name": "ipython",
    "version": 3
   },
   "file_extension": ".py",
   "mimetype": "text/x-python",
   "name": "python",
   "nbconvert_exporter": "python",
   "pygments_lexer": "ipython3",
   "version": "3.7.6"
  }
 },
 "nbformat": 4,
 "nbformat_minor": 4
}

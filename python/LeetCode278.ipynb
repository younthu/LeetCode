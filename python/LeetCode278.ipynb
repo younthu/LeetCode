{
 "cells": [
  {
   "cell_type": "code",
   "execution_count": null,
   "metadata": {
    "collapsed": true
   },
   "outputs": [],
   "source": [
    "# The isBadVersion API is already defined for you.\n",
    "# @param version, an integer\n",
    "# @return a bool\n",
    "# def isBadVersion(version):\n",
    "\n",
    "class Solution:\n",
    "    def firstBadVersion(self, n):\n",
    "        \"\"\"\n",
    "        :type n: int\n",
    "        :rtype: int\n",
    "        \"\"\"\n",
    "        mid = int(n / 2)\n",
    "        \n",
    "        left = 1;\n",
    "        right = n;\n",
    "        max_right = 0;\n",
    "        min_bad = n+1;\n",
    "        \n",
    "        while left < right:\n",
    "            if isBadVersion(mid):\n",
    "                if mid == max_right + 1:\n",
    "                    return mid\n",
    "                else:\n",
    "                    min_bad = mid\n",
    "                    right = mid\n",
    "                    mid = int((left + right)/2)\n",
    "            else:\n",
    "                if mid == min_bad - 1:\n",
    "                    return right\n",
    "                else:\n",
    "                    max_right = mid\n",
    "                    left = mid\n",
    "                    mid = int((left + right + 1)/2)\n",
    "                    \n",
    "        return left; # 只有一个version的情况    "
   ]
  },
  {
   "cell_type": "markdown",
   "metadata": {},
   "source": [
    "Runtime: 32 ms, faster than 89.73% of Python3 online submissions for First Bad Version.\n",
    "Memory Usage: 13 MB, less than 88.63% of Python3 online submissions for First Bad Version."
   ]
  },
  {
   "cell_type": "code",
   "execution_count": null,
   "metadata": {
    "collapsed": true
   },
   "outputs": [],
   "source": [
    "# The isBadVersion API is already defined for you.\n",
    "# @param version, an integer\n",
    "# @return a bool\n",
    "# def isBadVersion(version):\n",
    "\n",
    "class Solution:\n",
    "    def firstBadVersion(self, n):\n",
    "        \"\"\"\n",
    "        :type n: int\n",
    "        :rtype: int\n",
    "        \"\"\"\n",
    "        if n == 1:\n",
    "            return 1\n",
    "        mid = int(n / 2)\n",
    "        \n",
    "        left = 0;\n",
    "        right = n + 1;\n",
    "        \n",
    "        \n",
    "        while left < right:\n",
    "            if isBadVersion(mid):\n",
    "                if mid == left + 1:\n",
    "                    return mid\n",
    "                else:\n",
    "                    right = mid\n",
    "                    mid = int((left + right)/2)\n",
    "            else:\n",
    "                if mid == right - 1:\n",
    "                    return right\n",
    "                else:\n",
    "                    left = mid\n",
    "                    mid = int((left + right + 1)/2)\n",
    "                    \n",
    "        return left; # 只有一个version的情况    "
   ]
  },
  {
   "cell_type": "markdown",
   "metadata": {
    "collapsed": true
   },
   "source": [
    "Runtime: 28 ms, faster than 97.76% of Python3 online submissions for First Bad Version.\n",
    "Memory Usage: 13.1 MB, less than 63.47% of Python3 online submissions for First Bad Version.\n"
   ]
  }
 ],
 "metadata": {
  "kernelspec": {
   "display_name": "Python 3",
   "language": "python",
   "name": "python3"
  },
  "language_info": {
   "codemirror_mode": {
    "name": "ipython",
    "version": 3
   },
   "file_extension": ".py",
   "mimetype": "text/x-python",
   "name": "python",
   "nbconvert_exporter": "python",
   "pygments_lexer": "ipython3",
   "version": "3.6.1"
  }
 },
 "nbformat": 4,
 "nbformat_minor": 2
}

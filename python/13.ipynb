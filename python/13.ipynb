{
 "cells": [
  {
   "cell_type": "code",
   "execution_count": 5,
   "metadata": {},
   "outputs": [],
   "source": [
    "class Solution:\n",
    "    def romanToInt(self, s: str) -> int:\n",
    "        if not s:\n",
    "            return 0\n",
    "        if len(s) >1:\n",
    "            if s[:2] == \"IV\":\n",
    "                return 4 + self.romanToInt(s[2:])\n",
    "            if s[:2] == \"IX\":\n",
    "                return 9 + self.romanToInt(s[2:])\n",
    "            if s[:2] == \"XL\":\n",
    "                return 40 + self.romanToInt(s[2:])\n",
    "            if s[:2] == \"XC\":\n",
    "                return 90 + self.romanToInt(s[2:])\n",
    "            if s[:2] == \"CD\":\n",
    "                return 400 + self.romanToInt(s[2:])\n",
    "            if s[:2] == \"CM\":\n",
    "                return 900 + self.romanToInt(s[2:])\n",
    "        return {'I':1, 'V':5, 'X':10, 'L':50, 'C':100, 'D':500, 'M': 1000}[s[0]] + self.romanToInt(s[1:])"
   ]
  },
  {
   "cell_type": "code",
   "execution_count": 6,
   "metadata": {},
   "outputs": [
    {
     "data": {
      "text/plain": [
       "58"
      ]
     },
     "execution_count": 6,
     "metadata": {},
     "output_type": "execute_result"
    }
   ],
   "source": [
    "Solution().romanToInt(\"LVIII\")"
   ]
  },
  {
   "cell_type": "code",
   "execution_count": null,
   "metadata": {},
   "outputs": [],
   "source": []
  }
 ],
 "metadata": {
  "kernelspec": {
   "display_name": "Python 3",
   "language": "python",
   "name": "python3"
  },
  "language_info": {
   "codemirror_mode": {
    "name": "ipython",
    "version": 3
   },
   "file_extension": ".py",
   "mimetype": "text/x-python",
   "name": "python",
   "nbconvert_exporter": "python",
   "pygments_lexer": "ipython3",
   "version": "3.7.6"
  }
 },
 "nbformat": 4,
 "nbformat_minor": 4
}

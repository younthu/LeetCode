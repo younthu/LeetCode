{
 "cells": [
  {
   "cell_type": "code",
   "execution_count": 10,
   "metadata": {},
   "outputs": [],
   "source": [
    "from bisect import bisect_left\n",
    "from typing import List\n",
    "import pysnooper\n",
    "\n",
    "class Solution:\n",
    "    @pysnooper.snoop()\n",
    "    def search(self, nums: List[int], target: int) -> int:\n",
    "        \n",
    "        l = len(nums)\n",
    "        if l == 0:\n",
    "            return -1;\n",
    "\n",
    "        if nums[0] == target:\n",
    "            return 0\n",
    "        if nums[l - 1] == target:\n",
    "            return l -1\n",
    "        \n",
    "        # 找到rotation 边界\n",
    "        m_index = int(l / 2)\n",
    "        left_bound = 0\n",
    "        right_bound = l - 1\n",
    "        while left_bound <= right_bound :\n",
    "            if m_index == l - 1:\n",
    "                break\n",
    "            if nums[m_index] > nums[m_index + 1]:\n",
    "                break # 找到了节点\n",
    "            elif nums[m_index] < nums[0]: # 节点在左边\n",
    "                temp = m_index\n",
    "                m_index = int((left_bound + right_bound)/2)\n",
    "                right_bound = temp\n",
    "            elif nums[m_index] > nums[0]: # 节点在右边\n",
    "                temp = m_index\n",
    "                m_index = int((left_bound + right_bound + 1)/2)\n",
    "                left_bound = temp\n",
    "        \n",
    "        index = - 1\n",
    "        if target < nums[0]:\n",
    "            index = bisect_left(nums,target, m_index + 1, l) \n",
    "        else:\n",
    "            index = bisect_left(nums, target, 0, m_index + 1)\n",
    "        \n",
    "        if index != l and nums[index] == target:\n",
    "            return index\n",
    "        return -1"
   ]
  },
  {
   "cell_type": "code",
   "execution_count": 11,
   "metadata": {},
   "outputs": [
    {
     "name": "stderr",
     "output_type": "stream",
     "text": [
      "    Starting var:.. self = <__main__.Solution object at 0x10e83e908>\n",
      "    Starting var:.. nums = [1, 3, 5]\n",
      "    Starting var:.. target = 0\n",
      "    14:15:22.372437 call         7     def search(self, nums: List[int], target: int) -> int:\n",
      "    14:15:22.372591 line         9         l = len(nums)\n",
      "    New var:....... l = 3\n",
      "    14:15:22.372676 line        10         if l == 0:\n",
      "    14:15:22.372727 line        13         if nums[0] == target:\n",
      "    14:15:22.372774 line        15         if nums[l - 1] == target:\n",
      "    14:15:22.372820 line        19         m_index = int(l / 2)\n",
      "    New var:....... m_index = 1\n",
      "    14:15:22.372885 line        20         left_bound = 0\n",
      "    New var:....... left_bound = 0\n",
      "    14:15:22.373164 line        21         right_bound = l - 1\n",
      "    New var:....... right_bound = 2\n",
      "    14:15:22.373381 line        22         while left_bound <= right_bound :\n",
      "    14:15:22.373815 line        23             if m_index == l - 1:\n",
      "    14:15:22.373925 line        25             if nums[m_index] > nums[m_index + 1]:\n",
      "    14:15:22.373997 line        27             elif nums[m_index] < nums[0]: # 节点在左边\n",
      "    14:15:22.374062 line        31             elif nums[m_index] > nums[0]: # 节点在右边\n",
      "    14:15:22.374121 line        32                 temp = m_index\n",
      "    New var:....... temp = 1\n",
      "    14:15:22.374201 line        33                 m_index = int((left_bound + right_bound + 1)/2)\n",
      "    14:15:22.374265 line        34                 left_bound = temp\n",
      "    Modified var:.. left_bound = 1\n",
      "    14:15:22.374501 line        22         while left_bound <= right_bound :\n",
      "    14:15:22.374673 line        23             if m_index == l - 1:\n",
      "    14:15:22.374914 line        25             if nums[m_index] > nums[m_index + 1]:\n",
      "    14:15:22.375054 line        27             elif nums[m_index] < nums[0]: # 节点在左边\n",
      "    14:15:22.375187 line        31             elif nums[m_index] > nums[0]: # 节点在右边\n",
      "    14:15:22.375429 line        32                 temp = m_index\n",
      "    14:15:22.375594 line        33                 m_index = int((left_bound + right_bound + 1)/2)\n",
      "    Modified var:.. m_index = 2\n",
      "    14:15:22.375771 line        34                 left_bound = temp\n",
      "    14:15:22.375918 line        22         while left_bound <= right_bound :\n",
      "    14:15:22.376180 line        23             if m_index == l - 1:\n",
      "    14:15:22.376343 line        24                 break\n",
      "    14:15:22.376459 line        36         index = - 1\n",
      "    New var:....... index = -1\n",
      "    14:15:22.376688 line        37         if target < nums[0]:\n",
      "    14:15:22.376806 line        38             index = bisect_left(nums,target, m_index + 1, l) \n",
      "    Modified var:.. index = 3\n",
      "    14:15:22.376945 line        42         if index != l and nums[index] == target:\n",
      "    14:15:22.377036 line        44         return -1\n",
      "    14:15:22.377126 return      44         return -1\n",
      "    Return value:.. -1\n"
     ]
    },
    {
     "data": {
      "text/plain": [
       "-1"
      ]
     },
     "execution_count": 11,
     "metadata": {},
     "output_type": "execute_result"
    }
   ],
   "source": [
    "s = Solution()\n",
    "s.search([1,3,5],0)"
   ]
  },
  {
   "cell_type": "markdown",
   "metadata": {},
   "source": [
    "Runtime: 36 ms, faster than 79.76% of Python3 online submissions for Search in Rotated Sorted Array.\n",
    "Memory Usage: 13.3 MB, less than 42.35% of Python3 online submissions for Search in Rotated Sorted Array."
   ]
  },
  {
   "cell_type": "code",
   "execution_count": null,
   "metadata": {
    "collapsed": true
   },
   "outputs": [],
   "source": []
  }
 ],
 "metadata": {
  "kernelspec": {
   "display_name": "Python 3",
   "language": "python",
   "name": "python3"
  },
  "language_info": {
   "codemirror_mode": {
    "name": "ipython",
    "version": 3
   },
   "file_extension": ".py",
   "mimetype": "text/x-python",
   "name": "python",
   "nbconvert_exporter": "python",
   "pygments_lexer": "ipython3",
   "version": "3.6.1"
  }
 },
 "nbformat": 4,
 "nbformat_minor": 2
}

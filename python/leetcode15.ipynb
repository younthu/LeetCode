{
 "cells": [
  {
   "cell_type": "code",
   "execution_count": 47,
   "metadata": {},
   "outputs": [],
   "source": [
    "# https://leetcode.com/problems/3sum/\n",
    "from typing import List,Set\n",
    "from bisect import bisect_left\n",
    "import pysnooper\n",
    "\n",
    "class Solution:\n",
    "    \"\"\"\n",
    "    解题思路: 先排序，然后从左到右,找出所有的解\n",
    "    \"\"\"\n",
    "    @pysnooper.snoop()\n",
    "    def threeSum(self, nums: List[int]) -> List[List[int]]:\n",
    "        nums.sort()\n",
    "        arr = nums\n",
    "        result = []\n",
    "        left = 0\n",
    "        mid  = 1\n",
    "        l = len(arr)\n",
    "        right = l\n",
    "        \n",
    "        # 先找[0,0,0]这个特殊解\n",
    "        i = bisect_left(nums, 0)\n",
    "        if i < l - 2 and nums[i] == 0 and nums[i+1] ==0 and nums[i+2] == 0:\n",
    "            result.append([0,0,0])\n",
    "            \n",
    "        while(left < l - 2 and arr[left] < 0):\n",
    "            right = l - 1;\n",
    "            \n",
    "            while(right > left and arr[right] > 0 and arr[right] * 2 +arr[left] >= 0):\n",
    "                j = bisect_left(arr, -arr[left] - arr[right], left + 1, right)\n",
    "                if j != right and  arr[j] + arr[left] + arr[right] == 0:\n",
    "                    result.append([arr[left], arr[j],arr[right]])\n",
    "                \n",
    "                while(arr[right] == arr[right - 1] and right > left):\n",
    "                    right -= 1\n",
    "                right -= 1\n",
    "            while(left < right and arr[left] == arr[left + 1] ):\n",
    "                left +=1\n",
    "            left += 1\n",
    "        return result"
   ]
  },
  {
   "cell_type": "code",
   "execution_count": 48,
   "metadata": {},
   "outputs": [
    {
     "name": "stderr",
     "output_type": "stream",
     "text": [
      "Starting var:.. self = <__main__.Solution object at 0x10322e978>\n",
      "Starting var:.. nums = [3, 0, -2, -1, 1, 2]\n",
      "00:24:09.954246 call        11     def threeSum(self, nums: List[int]) -> List[List[int]]:\n",
      "00:24:09.954369 line        12         nums.sort()\n",
      "Modified var:.. nums = [-2, -1, 0, 1, 2, 3]\n",
      "00:24:09.954440 line        13         arr = nums\n",
      "New var:....... arr = [-2, -1, 0, 1, 2, 3]\n",
      "00:24:09.954672 line        14         result = []\n",
      "New var:....... result = []\n",
      "00:24:09.954760 line        15         left = 0\n",
      "New var:....... left = 0\n",
      "00:24:09.954844 line        16         mid  = 1\n",
      "New var:....... mid = 1\n",
      "00:24:09.954939 line        17         l = len(arr)\n",
      "New var:....... l = 6\n",
      "00:24:09.955026 line        18         right = l\n",
      "New var:....... right = 6\n",
      "00:24:09.955274 line        21         i = bisect_left(nums, 0)\n",
      "New var:....... i = 2\n",
      "00:24:09.956034 line        22         if i < l - 2 and nums[i] == 0 and nums[i+1] ==0 and nums[i+2] == 0:\n",
      "00:24:09.956180 line        25         while(left < l - 2 and arr[left] < 0):\n",
      "00:24:09.956274 line        26             right = l - 1;\n",
      "Modified var:.. right = 5\n",
      "00:24:09.956376 line        28             while(right > left and arr[right] > 0 and arr[right] * 2 +arr[left] >= 0):\n",
      "00:24:09.956457 line        29                 j = bisect_left(arr, -arr[left] - arr[right], left + 1, right)\n",
      "New var:....... j = 1\n",
      "00:24:09.956540 line        30                 if j != right and  arr[j] + arr[left] + arr[right] == 0:\n",
      "00:24:09.956599 line        31                     result.append([arr[left], arr[j],arr[right]])\n",
      "Modified var:.. result = [[-2, -1, 3]]\n",
      "00:24:09.956673 line        33                 while(arr[right] == arr[right - 1] and right > left):\n",
      "00:24:09.956731 line        35                 right -= 1\n",
      "Modified var:.. right = 4\n",
      "00:24:09.956810 line        28             while(right > left and arr[right] > 0 and arr[right] * 2 +arr[left] >= 0):\n",
      "00:24:09.956869 line        29                 j = bisect_left(arr, -arr[left] - arr[right], left + 1, right)\n",
      "Modified var:.. j = 2\n",
      "00:24:09.957166 line        30                 if j != right and  arr[j] + arr[left] + arr[right] == 0:\n",
      "00:24:09.957288 line        31                     result.append([arr[left], arr[j],arr[right]])\n",
      "Modified var:.. result = [[-2, -1, 3], [-2, 0, 2]]\n",
      "00:24:09.957587 line        33                 while(arr[right] == arr[right - 1] and right > left):\n",
      "00:24:09.957737 line        35                 right -= 1\n",
      "Modified var:.. right = 3\n",
      "00:24:09.957835 line        28             while(right > left and arr[right] > 0 and arr[right] * 2 +arr[left] >= 0):\n",
      "00:24:09.957914 line        29                 j = bisect_left(arr, -arr[left] - arr[right], left + 1, right)\n",
      "Modified var:.. j = 3\n",
      "00:24:09.958154 line        30                 if j != right and  arr[j] + arr[left] + arr[right] == 0:\n",
      "00:24:09.958234 line        33                 while(arr[right] == arr[right - 1] and right > left):\n",
      "00:24:09.958333 line        35                 right -= 1\n",
      "Modified var:.. right = 2\n",
      "00:24:09.958435 line        28             while(right > left and arr[right] > 0 and arr[right] * 2 +arr[left] >= 0):\n",
      "00:24:09.958506 line        36             while(left < right and arr[left] == arr[left + 1] ):\n",
      "00:24:09.958575 line        38             left += 1\n",
      "Modified var:.. left = 1\n",
      "00:24:09.958679 line        25         while(left < l - 2 and arr[left] < 0):\n",
      "00:24:09.958770 line        26             right = l - 1;\n",
      "Modified var:.. right = 5\n",
      "00:24:09.958856 line        28             while(right > left and arr[right] > 0 and arr[right] * 2 +arr[left] >= 0):\n",
      "00:24:09.959048 line        29                 j = bisect_left(arr, -arr[left] - arr[right], left + 1, right)\n",
      "Modified var:.. j = 2\n",
      "00:24:09.959294 line        30                 if j != right and  arr[j] + arr[left] + arr[right] == 0:\n",
      "00:24:09.959367 line        33                 while(arr[right] == arr[right - 1] and right > left):\n",
      "00:24:09.959503 line        35                 right -= 1\n",
      "Modified var:.. right = 4\n",
      "00:24:09.959594 line        28             while(right > left and arr[right] > 0 and arr[right] * 2 +arr[left] >= 0):\n",
      "00:24:09.959654 line        29                 j = bisect_left(arr, -arr[left] - arr[right], left + 1, right)\n",
      "00:24:09.959739 line        30                 if j != right and  arr[j] + arr[left] + arr[right] == 0:\n",
      "00:24:09.959805 line        33                 while(arr[right] == arr[right - 1] and right > left):\n",
      "00:24:09.959921 line        35                 right -= 1\n",
      "Modified var:.. right = 3\n",
      "00:24:09.960040 line        28             while(right > left and arr[right] > 0 and arr[right] * 2 +arr[left] >= 0):\n",
      "00:24:09.960103 line        29                 j = bisect_left(arr, -arr[left] - arr[right], left + 1, right)\n",
      "00:24:09.960199 line        30                 if j != right and  arr[j] + arr[left] + arr[right] == 0:\n",
      "00:24:09.960261 line        31                     result.append([arr[left], arr[j],arr[right]])\n",
      "Modified var:.. result = [[-2, -1, 3], [-2, 0, 2], [-1, 0, 1]]\n",
      "00:24:09.960372 line        33                 while(arr[right] == arr[right - 1] and right > left):\n",
      "00:24:09.960499 line        35                 right -= 1\n",
      "Modified var:.. right = 2\n",
      "00:24:09.960689 line        28             while(right > left and arr[right] > 0 and arr[right] * 2 +arr[left] >= 0):\n",
      "00:24:09.960760 line        36             while(left < right and arr[left] == arr[left + 1] ):\n",
      "00:24:09.960859 line        38             left += 1\n",
      "Modified var:.. left = 2\n",
      "00:24:09.960973 line        25         while(left < l - 2 and arr[left] < 0):\n",
      "00:24:09.961067 line        39         return result\n",
      "00:24:09.961129 return      39         return result\n",
      "Return value:.. [[-2, -1, 3], [-2, 0, 2], [-1, 0, 1]]\n"
     ]
    },
    {
     "data": {
      "text/plain": [
       "[[-2, -1, 3], [-2, 0, 2], [-1, 0, 1]]"
      ]
     },
     "execution_count": 48,
     "metadata": {},
     "output_type": "execute_result"
    }
   ],
   "source": [
    "s = Solution()\n",
    "s.threeSum([3,0,-2,-1,1,2])"
   ]
  },
  {
   "cell_type": "code",
   "execution_count": 11,
   "metadata": {},
   "outputs": [
    {
     "data": {
      "text/plain": [
       "-100"
      ]
     },
     "execution_count": 11,
     "metadata": {},
     "output_type": "execute_result"
    }
   ],
   "source": [
    "s = 100\n",
    "-s"
   ]
  },
  {
   "cell_type": "code",
   "execution_count": null,
   "metadata": {
    "collapsed": true
   },
   "outputs": [],
   "source": []
  }
 ],
 "metadata": {
  "kernelspec": {
   "display_name": "Python 3",
   "language": "python",
   "name": "python3"
  },
  "language_info": {
   "codemirror_mode": {
    "name": "ipython",
    "version": 3
   },
   "file_extension": ".py",
   "mimetype": "text/x-python",
   "name": "python",
   "nbconvert_exporter": "python",
   "pygments_lexer": "ipython3",
   "version": "3.6.1"
  }
 },
 "nbformat": 4,
 "nbformat_minor": 2
}

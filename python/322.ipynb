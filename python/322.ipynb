{
 "cells": [
  {
   "cell_type": "code",
   "execution_count": 8,
   "metadata": {},
   "outputs": [],
   "source": [
    "from typing import List\n",
    "\n",
    "class Solution:\n",
    "    def __init__(self):\n",
    "        self.max_len = 100000\n",
    "        self.found = False\n",
    "        \n",
    "    def coinChange(self, coins: List[int], amount: int) -> int:\n",
    "        coins_sorted = sorted(coins)\n",
    "        coins_length = len(coins)\n",
    "        self.walk(coins_sorted, amount, coins_length - 1, 0)\n",
    "        if self.found:\n",
    "            return self.max_len\n",
    "        else:\n",
    "            return -1\n",
    "    def walk(self, coins: List[int], amount: int, max_index: int, cur_len: int) -> int:\n",
    "        if max_index < 0:\n",
    "            return -1 # 硬币遍历结束，没有结果\n",
    "        if cur_len > self.max_len: # 已经超过最优答案\n",
    "            return -1 # \n",
    "        if coins[max_index] == amount: # 找到答案\n",
    "            if cur_len + 1 < self.max_len:\n",
    "                self.max_len = cur_len + 1\n",
    "            self.found = True\n",
    "            return 1\n",
    "        if amount < coins[0]: # 不可能有答案了\n",
    "           return -1\n",
    "        if coins[max_index] > amount: # amount小于最大的硬币，把最大额度的硬币候选去掉, 继续尝试\n",
    "            self.walk(coins, amount, max_index - 1, cur_len)\n",
    "        if coins[max_index] < amount: # amount大于最大的硬币面额, 可以尝试拿一个最大的然后继续尝试, 或者跳过最大的，尝试更小的面额\n",
    "            self.walk(coins, amount - coins[max_index], max_index, cur_len + 1)\n",
    "            self.walk(coins, amount, max_index - 1, cur_len)"
   ]
  },
  {
   "cell_type": "code",
   "execution_count": 9,
   "metadata": {},
   "outputs": [
    {
     "data": {
      "text/plain": [
       "-1"
      ]
     },
     "execution_count": 9,
     "metadata": {},
     "output_type": "execute_result"
    }
   ],
   "source": [
    "s = Solution()\n",
    "s.coinChange([1], 0)"
   ]
  },
  {
   "cell_type": "code",
   "execution_count": 12,
   "metadata": {},
   "outputs": [],
   "source": [
    "[].append(\"a\")"
   ]
  },
  {
   "cell_type": "code",
   "execution_count": null,
   "metadata": {},
   "outputs": [],
   "source": []
  }
 ],
 "metadata": {
  "kernelspec": {
   "display_name": "Python 3",
   "language": "python",
   "name": "python3"
  },
  "language_info": {
   "codemirror_mode": {
    "name": "ipython",
    "version": 3
   },
   "file_extension": ".py",
   "mimetype": "text/x-python",
   "name": "python",
   "nbconvert_exporter": "python",
   "pygments_lexer": "ipython3",
   "version": "3.7.6"
  }
 },
 "nbformat": 4,
 "nbformat_minor": 4
}

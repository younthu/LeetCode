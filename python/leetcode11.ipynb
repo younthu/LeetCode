{
 "cells": [
  {
   "cell_type": "code",
   "execution_count": 15,
   "metadata": {},
   "outputs": [],
   "source": [
    "# https://leetcode.com/problems/container-with-most-water/\n",
    "# 思路：从数组两边往中间收敛\n",
    "from typing import List\n",
    "class Solution:\n",
    "    def maxArea(self, height: List[int]) -> int:\n",
    "        max_value = 0\n",
    "        left = 0\n",
    "        right = len(height) - 1\n",
    "        \n",
    "        while left < right:\n",
    "            width = right - left\n",
    "            left_height = height[left]\n",
    "            right_height = height[right]\n",
    "            current_height = left_height if left_height < right_height else right_height\n",
    "            temp_max = width * current_height\n",
    "            if temp_max > max_value:\n",
    "                max_value = temp_max\n",
    "            \n",
    "            if left_height < right_height:\n",
    "                left += 1\n",
    "            elif left_height == right_height:\n",
    "                left += 1\n",
    "                right -= 1\n",
    "            else:\n",
    "                right -= 1\n",
    "        return max_value"
   ]
  },
  {
   "cell_type": "code",
   "execution_count": 16,
   "metadata": {},
   "outputs": [
    {
     "data": {
      "text/plain": [
       "49"
      ]
     },
     "execution_count": 16,
     "metadata": {},
     "output_type": "execute_result"
    }
   ],
   "source": [
    "s = Solution()\n",
    "s.maxArea([1,8,6,2,5,4,8,3,7])\n"
   ]
  },
  {
   "cell_type": "code",
   "execution_count": 17,
   "metadata": {},
   "outputs": [
    {
     "data": {
      "text/plain": [
       "1"
      ]
     },
     "execution_count": 17,
     "metadata": {},
     "output_type": "execute_result"
    }
   ],
   "source": [
    "s.maxArea([1,2])"
   ]
  },
  {
   "cell_type": "code",
   "execution_count": null,
   "metadata": {
    "collapsed": true
   },
   "outputs": [],
   "source": [
    "Runtime: 48 ms, faster than 99.05% of Python3 online submissions for Container With Most Water.\n",
    "Memory Usage: 14.1 MB, less than 99.49% of Python3 online submissions for Container With Most Water."
   ]
  }
 ],
 "metadata": {
  "kernelspec": {
   "display_name": "Python 3",
   "language": "python",
   "name": "python3"
  },
  "language_info": {
   "codemirror_mode": {
    "name": "ipython",
    "version": 3
   },
   "file_extension": ".py",
   "mimetype": "text/x-python",
   "name": "python",
   "nbconvert_exporter": "python",
   "pygments_lexer": "ipython3",
   "version": "3.6.1"
  }
 },
 "nbformat": 4,
 "nbformat_minor": 2
}

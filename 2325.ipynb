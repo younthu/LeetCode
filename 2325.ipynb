{
 "cells": [
  {
   "cell_type": "code",
   "execution_count": 1,
   "id": "af056aac",
   "metadata": {},
   "outputs": [],
   "source": [
    "class Solution:\n",
    "    def decodeMessage(self, key: str, message: str) -> str:\n",
    "        values = \"abcdefghijklmnopqrstuvwxyz\";\n",
    "        i = 0;\n",
    "        dict = {' ': ' '};\n",
    "\n",
    "        for c in key:\n",
    "            if c == ' ':\n",
    "                pass;\n",
    "            elif c not in dict:\n",
    "                dict[c] = values[i];\n",
    "                i +=1;\n",
    "        \n",
    "        result = \"\"\n",
    "        print(dict)\n",
    "        for m in message:\n",
    "            result+= str(dict[m])\n",
    "        return result\n",
    "        "
   ]
  },
  {
   "cell_type": "code",
   "execution_count": 2,
   "id": "1bd5c9b7",
   "metadata": {},
   "outputs": [],
   "source": [
    "key1 = \"the quick brown fox jumps over the lazy dog\";\n",
    "m1 = \"vkbs bs t suepuv\"\n",
    "\n",
    "key2 = \"eljuxhpwnyrdgtqkviszcfmabo\"\n",
    "m2 = \"zwx hnfx lqantp mnoeius ycgk vcnjrdb\""
   ]
  },
  {
   "cell_type": "code",
   "execution_count": 3,
   "id": "777b8a8b",
   "metadata": {},
   "outputs": [
    {
     "name": "stdout",
     "output_type": "stream",
     "text": [
      "{'t': 'a', 'h': 'b', 'e': 'c', ' ': ' ', 'q': 'd', 'u': 'e', 'i': 'f', 'c': 'g', 'k': 'h', 'b': 'i', 'r': 'j', 'o': 'k', 'w': 'l', 'n': 'm', 'f': 'n', 'x': 'o', 'j': 'p', 'm': 'q', 'p': 'r', 's': 's', 'v': 't', 'l': 'u', 'a': 'v', 'z': 'w', 'y': 'x', 'd': 'y', 'g': 'z'}\n"
     ]
    },
    {
     "data": {
      "text/plain": [
       "'this is a secret'"
      ]
     },
     "execution_count": 3,
     "metadata": {},
     "output_type": "execute_result"
    }
   ],
   "source": [
    "Solution().decodeMessage(key1, m1)"
   ]
  },
  {
   "cell_type": "code",
   "execution_count": 5,
   "id": "425ffb1b",
   "metadata": {},
   "outputs": [
    {
     "name": "stdout",
     "output_type": "stream",
     "text": [
      "{'e': 'a', 'l': 'b', 'j': 'c', 'u': 'd', 'x': 'e', 'h': 'f', 'p': 'g', 'w': 'h', 'n': 'i', 'y': 'j', 'r': 'k', 'd': 'l', 'g': 'm', 't': 'n', 'q': 'o', 'k': 'p', 'v': 'q', 'i': 'r', 's': 's', 'z': 't', 'c': 'u', 'f': 'v', 'm': 'w', 'a': 'x', 'b': 'y', 'o': 'z'}\n"
     ]
    },
    {
     "ename": "KeyError",
     "evalue": "' '",
     "output_type": "error",
     "traceback": [
      "\u001b[0;31m---------------------------------------------------------------------------\u001b[0m",
      "\u001b[0;31mKeyError\u001b[0m                                  Traceback (most recent call last)",
      "Cell \u001b[0;32mIn[5], line 1\u001b[0m\n\u001b[0;32m----> 1\u001b[0m Solution()\u001b[38;5;241m.\u001b[39mdecodeMessage(key2, m2)\n",
      "Cell \u001b[0;32mIn[1], line 17\u001b[0m, in \u001b[0;36mSolution.decodeMessage\u001b[0;34m(self, key, message)\u001b[0m\n\u001b[1;32m     15\u001b[0m \u001b[38;5;28mprint\u001b[39m(\u001b[38;5;28mdict\u001b[39m)\n\u001b[1;32m     16\u001b[0m \u001b[38;5;28;01mfor\u001b[39;00m m \u001b[38;5;129;01min\u001b[39;00m message:\n\u001b[0;32m---> 17\u001b[0m     result\u001b[38;5;241m+\u001b[39m\u001b[38;5;241m=\u001b[39m \u001b[38;5;28mstr\u001b[39m(\u001b[38;5;28mdict\u001b[39m[m])\n\u001b[1;32m     18\u001b[0m \u001b[38;5;28;01mreturn\u001b[39;00m result\n",
      "\u001b[0;31mKeyError\u001b[0m: ' '"
     ]
    }
   ],
   "source": [
    "Solution().decodeMessage(key2, m2)"
   ]
  },
  {
   "cell_type": "code",
   "execution_count": null,
   "id": "df0f6989",
   "metadata": {},
   "outputs": [],
   "source": []
  }
 ],
 "metadata": {
  "kernelspec": {
   "display_name": "Python 3 (ipykernel)",
   "language": "python",
   "name": "python3"
  },
  "language_info": {
   "codemirror_mode": {
    "name": "ipython",
    "version": 3
   },
   "file_extension": ".py",
   "mimetype": "text/x-python",
   "name": "python",
   "nbconvert_exporter": "python",
   "pygments_lexer": "ipython3",
   "version": "3.11.5"
  }
 },
 "nbformat": 4,
 "nbformat_minor": 5
}

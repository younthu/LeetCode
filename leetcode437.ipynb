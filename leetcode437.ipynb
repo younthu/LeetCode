{
 "cells": [
  {
   "cell_type": "code",
   "execution_count": 1,
   "metadata": {
    "collapsed": true
   },
   "outputs": [],
   "source": [
    "# 437\n",
    "# Definition for a binary tree node.\n",
    "# class TreeNode:\n",
    "#     def __init__(self, x):\n",
    "#         self.val = x\n",
    "#         self.left = None\n",
    "#         self.right = None\n",
    "\n",
    "class Solution:\n",
    "    def pathSum(self, root, sum):\n",
    "        \"\"\"\n",
    "        :type root: TreeNode\n",
    "        :type sum: int\n",
    "        :rtype: int\n",
    "        \"\"\"\n",
    "        if None == root:\n",
    "            return 0\n",
    "        c,s = self.childrenSums(root,sum)\n",
    "        return c\n",
    "    \n",
    "    def childrenSums(self, root, sum):\n",
    "        \n",
    "        if root.left == None and root.right == None:\n",
    "            return (1 if sum == root.val else 0, [root.val])\n",
    "        sums = []\n",
    "        count = 0\n",
    "        \n",
    "        if root.left != None:\n",
    "            c,s  = self.childrenSums(root.left, sum)\n",
    "            sums  += s\n",
    "            count +=c\n",
    "        \n",
    "        if root.right != None:\n",
    "            c,s= self.childrenSums(root.right, sum)\n",
    "            sums  += s\n",
    "            count +=c\n",
    "        \n",
    "        if root.val == sum: # root自身==sum\n",
    "            count +=1\n",
    "        \n",
    "        count += sums.count(sum - root.val)\n",
    "        sums = [*map(lambda x: x+root.val, sums)]\n",
    "        sums.append(root.val)\n",
    "        return count, sums\n",
    "        "
   ]
  },
  {
   "cell_type": "code",
   "execution_count": 3,
   "metadata": {},
   "outputs": [],
   "source": []
  },
  {
   "cell_type": "code",
   "execution_count": 4,
   "metadata": {},
   "outputs": [
    {
     "data": {
      "text/plain": [
       "4"
      ]
     },
     "execution_count": 4,
     "metadata": {},
     "output_type": "execute_result"
    }
   ],
   "source": [
    "count"
   ]
  },
  {
   "cell_type": "code",
   "execution_count": null,
   "metadata": {
    "collapsed": true
   },
   "outputs": [],
   "source": []
  }
 ],
 "metadata": {
  "kernelspec": {
   "display_name": "Python 3",
   "language": "python",
   "name": "python3"
  },
  "language_info": {
   "codemirror_mode": {
    "name": "ipython",
    "version": 3
   },
   "file_extension": ".py",
   "mimetype": "text/x-python",
   "name": "python",
   "nbconvert_exporter": "python",
   "pygments_lexer": "ipython3",
   "version": "3.6.1"
  }
 },
 "nbformat": 4,
 "nbformat_minor": 2
}

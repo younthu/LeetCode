{
 "cells": [
  {
   "cell_type": "code",
   "execution_count": 34,
   "metadata": {},
   "outputs": [],
   "source": [
    "class Solution:\n",
    "    def isMatch(self, s: str, p: str) -> bool:\n",
    "        \n",
    "        if not s: #s 走完以后，p如果是是a*,.*则可以匹配\n",
    "            if not p:\n",
    "                return True\n",
    "            else:\n",
    "                if len(p) > 1 and p[1] == \"*\":\n",
    "                    return self.isMatch(s, p[2:])\n",
    "                else:\n",
    "                    return False\n",
    "        if not p:\n",
    "            return False\n",
    "        \n",
    "        # 掐头, 头部为普通字母，且后续没有*\n",
    "        if p[0] != '.' and (len(p) == 1 or p[1] != \"*\"):\n",
    "            if s[0] != p[0]:\n",
    "                return False\n",
    "            else:\n",
    "                return self.isMatch(s[1:], p[1:])\n",
    "            \n",
    "            \n",
    "        # 去尾,\n",
    "        # 尾部.\n",
    "        if p[-1:] == '.':\n",
    "            return self.isMatch(s[:-1], p[:-1])\n",
    "        # 尾部普通字符\n",
    "        if p[-1:] != '*':\n",
    "            if s[-1:] == p[-1:]:\n",
    "                return self.isMatch(s[:-1], p[:-1])\n",
    "            return False\n",
    "        \n",
    "        \n",
    "        # 匹配.*, 0-n子串任意匹配\n",
    "        if len(p) > 1 and p[:2] == \".*\":\n",
    "            if len(p) == 2:\n",
    "                return True\n",
    "            idx = 0\n",
    "            while idx <= len(s):\n",
    "                if self.isMatch(s[idx:], p[2:]):\n",
    "                    return True\n",
    "                idx+=1\n",
    "            return False\n",
    "        \n",
    "        # 匹配.\n",
    "        if len(p) > 1 and p[0] == \".\":\n",
    "            return self.isMatch(s[1:], p[1:])\n",
    "        \n",
    "        # 匹配 a*, a未非[.*]字符\n",
    "        if self.isMatch(s, p[2:]):\n",
    "            return True\n",
    "        c = p[0]\n",
    "        idx = 0\n",
    "        while idx < len(s) and s[idx] == c :\n",
    "            if self.isMatch(s[idx + 1:], p[2:]):\n",
    "                return True\n",
    "            idx += 1\n",
    "        return False\n",
    "        \n",
    "        "
   ]
  },
  {
   "cell_type": "code",
   "execution_count": 17,
   "metadata": {},
   "outputs": [
    {
     "data": {
      "text/plain": [
       "False"
      ]
     },
     "execution_count": 17,
     "metadata": {},
     "output_type": "execute_result"
    }
   ],
   "source": [
    "Solution().isMatch(\"aa\",\"a\")"
   ]
  },
  {
   "cell_type": "code",
   "execution_count": 24,
   "metadata": {},
   "outputs": [
    {
     "data": {
      "text/plain": [
       "True"
      ]
     },
     "execution_count": 24,
     "metadata": {},
     "output_type": "execute_result"
    }
   ],
   "source": [
    "Solution().isMatch(\"aa\",\"a*\")"
   ]
  },
  {
   "cell_type": "code",
   "execution_count": 25,
   "metadata": {},
   "outputs": [
    {
     "data": {
      "text/plain": [
       "True"
      ]
     },
     "execution_count": 25,
     "metadata": {},
     "output_type": "execute_result"
    }
   ],
   "source": [
    "Solution().isMatch(\"ab\",\".*\")"
   ]
  },
  {
   "cell_type": "code",
   "execution_count": 32,
   "metadata": {},
   "outputs": [
    {
     "data": {
      "text/plain": [
       "True"
      ]
     },
     "execution_count": 32,
     "metadata": {},
     "output_type": "execute_result"
    }
   ],
   "source": [
    "Solution().isMatch(\"aab\",\"ac*a*b\")"
   ]
  },
  {
   "cell_type": "code",
   "execution_count": 31,
   "metadata": {},
   "outputs": [
    {
     "data": {
      "text/plain": [
       "False"
      ]
     },
     "execution_count": 31,
     "metadata": {},
     "output_type": "execute_result"
    }
   ],
   "source": [
    "Solution().isMatch(\"mississippi\",\"mis*is*p*.\")"
   ]
  },
  {
   "cell_type": "code",
   "execution_count": 30,
   "metadata": {},
   "outputs": [
    {
     "data": {
      "text/plain": [
       "True"
      ]
     },
     "execution_count": 30,
     "metadata": {},
     "output_type": "execute_result"
    }
   ],
   "source": [
    "Solution().isMatch(\"aaa\",\"ab*ac*a\")"
   ]
  },
  {
   "cell_type": "code",
   "execution_count": 35,
   "metadata": {},
   "outputs": [
    {
     "data": {
      "text/plain": [
       "True"
      ]
     },
     "execution_count": 35,
     "metadata": {},
     "output_type": "execute_result"
    }
   ],
   "source": [
    "Solution().isMatch(\"bbbba\",\".*a*a\")"
   ]
  },
  {
   "cell_type": "code",
   "execution_count": null,
   "metadata": {},
   "outputs": [],
   "source": []
  }
 ],
 "metadata": {
  "kernelspec": {
   "display_name": "Python 3",
   "language": "python",
   "name": "python3"
  },
  "language_info": {
   "codemirror_mode": {
    "name": "ipython",
    "version": 3
   },
   "file_extension": ".py",
   "mimetype": "text/x-python",
   "name": "python",
   "nbconvert_exporter": "python",
   "pygments_lexer": "ipython3",
   "version": "3.7.6"
  }
 },
 "nbformat": 4,
 "nbformat_minor": 4
}

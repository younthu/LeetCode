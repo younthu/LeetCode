{
 "cells": [
  {
   "cell_type": "code",
   "execution_count": 4,
   "metadata": {
    "collapsed": true
   },
   "outputs": [],
   "source": [
    "class Solution:\n",
    "    def reverseVowels(self, s):\n",
    "        \"\"\"\n",
    "        :type s: str\n",
    "        :rtype: str\n",
    "        \"\"\"\n",
    "        strlen = len(s)\n",
    "        chars = list(s)\n",
    "        left = 0\n",
    "        right = strlen -1\n",
    "        vowels=['a','o','e','i','u','A','O','E','I','U']\n",
    "        \n",
    "        while left < right:\n",
    "            # find left vowels\n",
    "            while s[left] not in vowels:\n",
    "                left+=1\n",
    "                if left >= right:\n",
    "                    break\n",
    "                \n",
    "            while right>= left and s[right] not in vowels:\n",
    "                right -= 1\n",
    "                if right <=0:\n",
    "                    break\n",
    "            \n",
    "            if right > left:\n",
    "                # swap two char\n",
    "                temp = chars[left]\n",
    "                chars[left] = chars[right]\n",
    "                chars[right] = temp\n",
    "                left += 1\n",
    "                right -=1\n",
    "            \n",
    "            if left >= strlen or right < 0:\n",
    "                break\n",
    "        \n",
    "        return ''.join(chars)"
   ]
  },
  {
   "cell_type": "code",
   "execution_count": 11,
   "metadata": {
    "collapsed": true
   },
   "outputs": [],
   "source": [
    "#https://leetcode.com/problems/reverse-vowels-of-a-string/discuss/201523/3-line-Python-solution-with-iterators\n",
    "class Solution2:\n",
    "    def reverseVowels(self,s):\n",
    "        VOWELS = set(list('aeiouAEIOU'))\n",
    "        reversed_vowels = reversed(list(filter(lambda char: char in VOWELS, s)))\n",
    "        return ''.join((char if char not in VOWELS else next(reversed_vowels) for char in s))"
   ]
  },
  {
   "cell_type": "code",
   "execution_count": null,
   "metadata": {},
   "outputs": [],
   "source": []
  },
  {
   "cell_type": "code",
   "execution_count": null,
   "metadata": {},
   "outputs": [],
   "source": []
  },
  {
   "cell_type": "code",
   "execution_count": 5,
   "metadata": {},
   "outputs": [],
   "source": [
    "s = Solution()"
   ]
  },
  {
   "cell_type": "code",
   "execution_count": 16,
   "metadata": {},
   "outputs": [
    {
     "name": "stdout",
     "output_type": "stream",
     "text": [
      "CPU times: user 48 µs, sys: 1 µs, total: 49 µs\n",
      "Wall time: 52 µs\n"
     ]
    },
    {
     "data": {
      "text/plain": [
       "'holleholleholleholleholleholleholleholleholleholleholleholleholleholleholleholleholleholleholleholleholleholleholleholle'"
      ]
     },
     "execution_count": 16,
     "metadata": {},
     "output_type": "execute_result"
    }
   ],
   "source": [
    "%time s.reverseVowels('hellohellohellohellohellohellohellohellohellohellohellohellohellohellohellohellohellohellohellohellohellohellohellohello')"
   ]
  },
  {
   "cell_type": "code",
   "execution_count": 15,
   "metadata": {},
   "outputs": [
    {
     "name": "stdout",
     "output_type": "stream",
     "text": [
      "CPU times: user 78 µs, sys: 1 µs, total: 79 µs\n",
      "Wall time: 83.9 µs\n"
     ]
    },
    {
     "data": {
      "text/plain": [
       "'holleholleholleholleholleholleholleholleholleholleholleholleholleholleholleholleholleholleholleholleholleholleholleholle'"
      ]
     },
     "execution_count": 15,
     "metadata": {},
     "output_type": "execute_result"
    }
   ],
   "source": [
    "s2 = Solution2()\n",
    "%time s2.reverseVowels('hellohellohellohellohellohellohellohellohellohellohellohellohellohellohellohellohellohellohellohellohellohellohellohello')"
   ]
  },
  {
   "cell_type": "code",
   "execution_count": null,
   "metadata": {
    "collapsed": true
   },
   "outputs": [],
   "source": []
  }
 ],
 "metadata": {
  "kernelspec": {
   "display_name": "Python 3",
   "language": "python",
   "name": "python3"
  },
  "language_info": {
   "codemirror_mode": {
    "name": "ipython",
    "version": 3
   },
   "file_extension": ".py",
   "mimetype": "text/x-python",
   "name": "python",
   "nbconvert_exporter": "python",
   "pygments_lexer": "ipython3",
   "version": "3.6.1"
  }
 },
 "nbformat": 4,
 "nbformat_minor": 2
}

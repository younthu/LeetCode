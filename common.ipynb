{
 "cells": [
  {
   "cell_type": "markdown",
   "id": "12ae4c03",
   "metadata": {},
   "source": [
    "# TreeNode扩展\n",
    "\n",
    "1. 添加`printNode`方法，方便调试\n",
    "1. "
   ]
  },
  {
   "cell_type": "code",
   "execution_count": 9,
   "id": "71adc63a",
   "metadata": {},
   "outputs": [],
   "source": [
    "from typing import Optional\n",
    "# Definition for a binary tree node.\n",
    "class TreeNode:\n",
    "    def __init__(self, val=0, left=None, right=None):\n",
    "        self.val = val\n",
    "        self.left = left\n",
    "        self.right = right\n",
    "        \n",
    "    def printNode(self):\n",
    "        if not self:\n",
    "            print(\"null\")\n",
    "            return\n",
    "        print(self.val)\n",
    "        if self.left:\n",
    "            self.left.printNode();\n",
    "        if self.right:\n",
    "            self.right.printNode();"
   ]
  },
  {
   "cell_type": "markdown",
   "id": "9a8c3856",
   "metadata": {},
   "source": [
    "## 给TreeNode动态添加额外的属性\n",
    "\n",
    "python里面属性可以不声明定义就直接赋值使用。 \n",
    "~~~python\n",
    "node = TreeNode(0)\n",
    "node.height = 100\n",
    "node.width = 100\n",
    "~~~\n",
    "\n",
    "实例属性可以不在类中显示定义, 在实例化一个TreeNode之后通过`.height = 100`添加了一个实例属性height，赋值为 100。这个实例属性是实例对象 `node` 所特有的，注 意，类对象 `TreeNode` 和实例对象 `node2` 并不拥有它."
   ]
  },
  {
   "cell_type": "code",
   "execution_count": 14,
   "id": "f66880cb",
   "metadata": {},
   "outputs": [
    {
     "name": "stdout",
     "output_type": "stream",
     "text": [
      "100 X 100\n",
      "\n",
      "\n",
      "#####node2.height throws exception:\n",
      "'TreeNode' object has no attribute 'height'\n"
     ]
    }
   ],
   "source": [
    "node = TreeNode(0)\n",
    "node.height = 100\n",
    "node.width = 100\n",
    "\n",
    "print(node.height, \"X\", node.width)\n",
    "\n",
    "\n",
    "print(\"\\n\\n#####node2.height throws exception:\")\n",
    "node2 = TreeNode(1)\n",
    "try:\n",
    "    print(node2.height)\n",
    "except AttributeError as attributError:\n",
    "    print(attributError)"
   ]
  },
  {
   "cell_type": "markdown",
   "id": "5410f5e4",
   "metadata": {},
   "source": [
    "## 给class动态永久添加属性的方法\n",
    "还可以通过metaclass来修改类, \n",
    "1. https://liaoxuefeng.com/books/python/oop-adv/meta-class/\n",
    "1. https://medium.com/@SmoQ/metaclasses-in-python-flexibility-in-class-creation-and-their-applications-93b10824aa7b\n",
    "\n",
    "Python的元编程和ruby的元编程区别:\n",
    "1. Ruby可以在不修改源代码的情况下直接给类添加实力属性和方法。Python不可以, Python只能通过metaclass来修改类。如果你没有掌控metaclass, 那你就没法改。\n",
    "1. Python可以通过直接赋值的方式来给实例添加属性，但是，这个属性不会影响其它的实例，其它实例还是没有这个属性。\n"
   ]
  },
  {
   "cell_type": "code",
   "execution_count": 34,
   "id": "3b5d2f61",
   "metadata": {},
   "outputs": [
    {
     "name": "stdout",
     "output_type": "stream",
     "text": [
      "10\n",
      "Hello\n"
     ]
    }
   ],
   "source": [
    "class DogMeta(type):\n",
    "    def __new__(cls, name, bases, dct):\n",
    "        updated_attributes = {f\"dog_{key}\": value for key, value in dct.items()}\n",
    "        return super().__new__(cls, name, bases, updated_attributes)\n",
    "\n",
    "class DogClass(metaclass=DogMeta):\n",
    "    attribute1 = 10\n",
    "    attribute2 = \"Hello\"\n",
    "\n",
    "# Create an instance of the class\n",
    "dog_obj = DogClass()\n",
    "\n",
    "# Check if the prefixes have been added\n",
    "print(dog_obj.dog_attribute1)  # Prints 10\n",
    "print(dog_obj.dog_attribute2)  # Prints \"Hello\""
   ]
  },
  {
   "cell_type": "code",
   "execution_count": 26,
   "id": "eacd45fe",
   "metadata": {},
   "outputs": [
    {
     "data": {
      "text/plain": [
       "(140356641104736, 140356641104736)"
      ]
     },
     "execution_count": 26,
     "metadata": {},
     "output_type": "execute_result"
    }
   ],
   "source": [
    "a = type(node)\n",
    "b = type(node2)\n",
    "id(a), id(b)"
   ]
  },
  {
   "cell_type": "code",
   "execution_count": 33,
   "id": "90496aa0",
   "metadata": {},
   "outputs": [
    {
     "data": {
      "text/plain": [
       "mappingproxy({'__module__': '__main__',\n",
       "              '__init__': <function __main__.TreeNode.__init__(self, val=0, left=None, right=None)>,\n",
       "              'printNode': <function __main__.TreeNode.printNode(self)>,\n",
       "              '__dict__': <attribute '__dict__' of 'TreeNode' objects>,\n",
       "              '__weakref__': <attribute '__weakref__' of 'TreeNode' objects>,\n",
       "              '__doc__': None})"
      ]
     },
     "execution_count": 33,
     "metadata": {},
     "output_type": "execute_result"
    }
   ],
   "source": [
    "a.__dict__"
   ]
  },
  {
   "cell_type": "code",
   "execution_count": 30,
   "id": "b0fba7bf",
   "metadata": {},
   "outputs": [
    {
     "data": {
      "text/plain": [
       "['__class__',\n",
       " '__delattr__',\n",
       " '__dict__',\n",
       " '__dir__',\n",
       " '__doc__',\n",
       " '__eq__',\n",
       " '__format__',\n",
       " '__ge__',\n",
       " '__getattribute__',\n",
       " '__getstate__',\n",
       " '__gt__',\n",
       " '__hash__',\n",
       " '__init__',\n",
       " '__init_subclass__',\n",
       " '__le__',\n",
       " '__lt__',\n",
       " '__module__',\n",
       " '__ne__',\n",
       " '__new__',\n",
       " '__reduce__',\n",
       " '__reduce_ex__',\n",
       " '__repr__',\n",
       " '__setattr__',\n",
       " '__sizeof__',\n",
       " '__str__',\n",
       " '__subclasshook__',\n",
       " '__weakref__',\n",
       " 'printNode']"
      ]
     },
     "execution_count": 30,
     "metadata": {},
     "output_type": "execute_result"
    }
   ],
   "source": [
    "dir(a)"
   ]
  },
  {
   "cell_type": "code",
   "execution_count": null,
   "id": "8f7ed5c2",
   "metadata": {},
   "outputs": [],
   "source": []
  }
 ],
 "metadata": {
  "kernelspec": {
   "display_name": "Python 3 (ipykernel)",
   "language": "python",
   "name": "python3"
  },
  "language_info": {
   "codemirror_mode": {
    "name": "ipython",
    "version": 3
   },
   "file_extension": ".py",
   "mimetype": "text/x-python",
   "name": "python",
   "nbconvert_exporter": "python",
   "pygments_lexer": "ipython3",
   "version": "3.11.5"
  }
 },
 "nbformat": 4,
 "nbformat_minor": 5
}

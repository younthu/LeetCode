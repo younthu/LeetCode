{
 "cells": [
  {
   "cell_type": "code",
   "execution_count": 14,
   "metadata": {
    "collapsed": true
   },
   "outputs": [],
   "source": [
    "import pysnooper\n",
    "\n",
    "class ListNode:\n",
    "    def __init__(self, x):\n",
    "        self.val = x\n",
    "        self.next = None\n",
    "class Solution:\n",
    "    @pysnooper.snoop()\n",
    "    def isPalindrome(self, head: ListNode) -> bool:\n",
    "        if None == head :\n",
    "            return True\n",
    "        if None == head.next:\n",
    "            return True\n",
    "        \n",
    "        cur = head\n",
    "        fast_cur = head.next # 2x faster than cur\n",
    "        count = 2\n",
    "        \n",
    "        while fast_cur:\n",
    "            cur = cur.next\n",
    "            fast_cur = fast_cur.next\n",
    "            if not fast_cur:\n",
    "                break\n",
    "            else:\n",
    "                fast_cur = fast_cur.next\n",
    "                count += 2 if fast_cur else 1\n",
    "        \n",
    "        if count % 2 == 1:\n",
    "            cur = cur.next\n",
    "        \n",
    "        print(cur.val)\n",
    "        print(count)\n",
    "        while cur:\n",
    "            if head.val != cur.val:\n",
    "                return False\n",
    "            else:\n",
    "                cur = cur.next\n",
    "                head = head.next\n",
    "        return True"
   ]
  },
  {
   "cell_type": "code",
   "execution_count": 16,
   "metadata": {},
   "outputs": [
    {
     "name": "stdout",
     "output_type": "stream",
     "text": [
      "2\n",
      "2\n"
     ]
    },
    {
     "name": "stderr",
     "output_type": "stream",
     "text": [
      "Starting var:.. self = <__main__.Solution object at 0x10eae1860>\n",
      "Starting var:.. head = <__main__.ListNode object at 0x10eaa1da0>\n",
      "13:59:36.786019 call         9     def isPalindrome(self, head: ListNode) -> bool:\n",
      "13:59:36.786121 line        10         if None == head :\n",
      "13:59:36.786180 line        12         if None == head.next:\n",
      "13:59:36.786230 line        15         cur = head\n",
      "New var:....... cur = <__main__.ListNode object at 0x10eaa1da0>\n",
      "13:59:36.786302 line        16         fast_cur = head.next # 2x faster than cur\n",
      "New var:....... fast_cur = <__main__.ListNode object at 0x10eae17b8>\n",
      "13:59:36.786680 line        17         count = 2\n",
      "New var:....... count = 2\n",
      "13:59:36.787501 line        19         while fast_cur:\n",
      "13:59:36.787880 line        20             cur = cur.next\n",
      "Modified var:.. cur = <__main__.ListNode object at 0x10eae17b8>\n",
      "13:59:36.788182 line        21             fast_cur = fast_cur.next\n",
      "Modified var:.. fast_cur = None\n",
      "13:59:36.788310 line        22             if not fast_cur:\n",
      "13:59:36.788420 line        23                 break\n",
      "13:59:36.788512 line        28         if count % 2 == 1:\n",
      "13:59:36.788602 line        31         print(cur.val)\n",
      "13:59:36.789020 line        32         print(count)\n",
      "13:59:36.789172 line        33         while cur:\n",
      "13:59:36.789238 line        34             if head.val != cur.val:\n",
      "13:59:36.789296 line        35                 return False\n",
      "13:59:36.789351 return      35                 return False\n",
      "Return value:.. False\n"
     ]
    },
    {
     "data": {
      "text/plain": [
       "False"
      ]
     },
     "execution_count": 16,
     "metadata": {},
     "output_type": "execute_result"
    }
   ],
   "source": [
    "s = Solution()\n",
    "head = ListNode(1)\n",
    "next = ListNode(2)\n",
    "nn   = ListNode(1)\n",
    "head.next = next\n",
    "#next.next = nn\n",
    "s.isPalindrome(head)"
   ]
  },
  {
   "cell_type": "code",
   "execution_count": null,
   "metadata": {
    "collapsed": true
   },
   "outputs": [],
   "source": []
  }
 ],
 "metadata": {
  "kernelspec": {
   "display_name": "Python 3",
   "language": "python",
   "name": "python3"
  },
  "language_info": {
   "codemirror_mode": {
    "name": "ipython",
    "version": 3
   },
   "file_extension": ".py",
   "mimetype": "text/x-python",
   "name": "python",
   "nbconvert_exporter": "python",
   "pygments_lexer": "ipython3",
   "version": "3.6.1"
  }
 },
 "nbformat": 4,
 "nbformat_minor": 2
}
